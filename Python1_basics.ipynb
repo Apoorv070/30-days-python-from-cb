{
 "cells": [
  {
   "cell_type": "markdown",
   "metadata": {},
   "source": [
    "# PYTHON BASICS"
   ]
  },
  {
   "cell_type": "code",
   "execution_count": 1,
   "metadata": {},
   "outputs": [
    {
     "name": "stdout",
     "output_type": "stream",
     "text": [
      "hi\n"
     ]
    }
   ],
   "source": [
    "print(\"hi\")"
   ]
  },
  {
   "cell_type": "code",
   "execution_count": 1,
   "metadata": {},
   "outputs": [
    {
     "name": "stdout",
     "output_type": "stream",
     "text": [
      "added a cell above\n"
     ]
    }
   ],
   "source": [
    "print(\"added a cell above\")"
   ]
  },
  {
   "cell_type": "code",
   "execution_count": 2,
   "metadata": {},
   "outputs": [
    {
     "name": "stdout",
     "output_type": "stream",
     "text": [
      "15\n"
     ]
    }
   ],
   "source": [
    "a = 5\n",
    "b = 10\n",
    "print(a+b)\n",
    "# esc + a add a cell above this cell\n",
    "# esc + b add a cell below this cell"
   ]
  },
  {
   "cell_type": "code",
   "execution_count": 8,
   "metadata": {},
   "outputs": [
    {
     "name": "stdout",
     "output_type": "stream",
     "text": [
      "added a cell below\n"
     ]
    }
   ],
   "source": [
    "print('added a cell below')"
   ]
  },
  {
   "cell_type": "markdown",
   "metadata": {},
   "source": [
    "### hello word \n",
    "this is a mark down cell\n",
    "- a \n",
    "- b \n",
    "- c\n",
    "- shortcut press esc+ M  and shift+enter to make this a markup point\n"
   ]
  },
  {
   "cell_type": "markdown",
   "metadata": {},
   "source": [
    "print(\"hi\")"
   ]
  },
  {
   "cell_type": "code",
   "execution_count": 3,
   "metadata": {},
   "outputs": [
    {
     "name": "stdout",
     "output_type": "stream",
     "text": [
      "hi\n"
     ]
    }
   ],
   "source": [
    "print(\"hi\")"
   ]
  },
  {
   "cell_type": "code",
   "execution_count": 4,
   "metadata": {},
   "outputs": [
    {
     "name": "stdout",
     "output_type": "stream",
     "text": [
      "hu\n"
     ]
    }
   ],
   "source": [
    "print(\"hu\")\n",
    "# esc+Y than shift+enter"
   ]
  },
  {
   "cell_type": "code",
   "execution_count": 7,
   "metadata": {},
   "outputs": [
    {
     "name": "stdout",
     "output_type": "stream",
     "text": [
      "6\n"
     ]
    }
   ],
   "source": [
    "a = 6\n",
    "print(a)\n",
    "# inorder to remove the cell u can use esc+dd "
   ]
  },
  {
   "cell_type": "code",
   "execution_count": 23,
   "metadata": {},
   "outputs": [],
   "source": [
    "y=4"
   ]
  },
  {
   "cell_type": "code",
   "execution_count": 16,
   "metadata": {},
   "outputs": [
    {
     "name": "stdout",
     "output_type": "stream",
     "text": [
      "7\n"
     ]
    }
   ],
   "source": [
    "print(y)"
   ]
  },
  {
   "cell_type": "code",
   "execution_count": 24,
   "metadata": {},
   "outputs": [
    {
     "name": "stdout",
     "output_type": "stream",
     "text": [
      "4\n"
     ]
    }
   ],
   "source": [
    "print(y)\n",
    "## here you have to see which cell is currently active  since the latest y has 23 number notebook \n",
    "## you can change it also but here while printing you  will see the output is for the latest y that \n",
    "## is 4 but we will not do this practice we will try to make a our code in top to bottom approach"
   ]
  },
  {
   "cell_type": "code",
   "execution_count": 3,
   "metadata": {},
   "outputs": [
    {
     "data": {
      "text/plain": [
       "'so this is a  \\n   multiple line comment\\n   you can also use a 3 double comment while making strings '"
      ]
     },
     "execution_count": 3,
     "metadata": {},
     "output_type": "execute_result"
    }
   ],
   "source": [
    "#this is a single line comment\n",
    "## the below one is a multiple line comment \n",
    "\"\"\"so this is a  \n",
    "   multiple line comment\n",
    "   you can also use a 3 double comment while making strings \"\"\""
   ]
  },
  {
   "cell_type": "code",
   "execution_count": 4,
   "metadata": {},
   "outputs": [],
   "source": [
    "##multiple themes in jupyter notebooks\n",
    "##pip install jupyterthemes\n",
    "## to check the available themes you can use jt -l\n",
    "## for eg black theme u can use command jt-t moonokai\n",
    "## similary you can use mamy other things like fonts and texts and various other things you can simply google it"
   ]
  },
  {
   "cell_type": "code",
   "execution_count": 52,
   "metadata": {},
   "outputs": [
    {
     "name": "stdout",
     "output_type": "stream",
     "text": [
      "this is \n",
      "some para written here \n",
      "please dont copy it here\n"
     ]
    }
   ],
   "source": [
    "para = \"\"\"this is \n",
    "some para written here \n",
    "please dont copy it here\"\"\"\n",
    "print(para)"
   ]
  },
  {
   "cell_type": "code",
   "execution_count": 9,
   "metadata": {},
   "outputs": [
    {
     "data": {
      "text/plain": [
       "5.0"
      ]
     },
     "execution_count": 9,
     "metadata": {},
     "output_type": "execute_result"
    }
   ],
   "source": [
    "##you can even use this as a calculator\n",
    "20/4"
   ]
  },
  {
   "cell_type": "code",
   "execution_count": 11,
   "metadata": {},
   "outputs": [
    {
     "data": {
      "text/plain": [
       "37.95652173913044"
      ]
     },
     "execution_count": 11,
     "metadata": {},
     "output_type": "execute_result"
    }
   ],
   "source": [
    "#single star is used for multiply \n",
    "##double star is used for power\n",
    "40+23-36/23*4*(2**2)"
   ]
  },
  {
   "cell_type": "code",
   "execution_count": 16,
   "metadata": {},
   "outputs": [
    {
     "name": "stdout",
     "output_type": "stream",
     "text": [
      "<class 'str'>\n",
      "<class 'str'>\n",
      "<class 'str'>\n"
     ]
    }
   ],
   "source": [
    "#strings can be stroed in these three format\n",
    "print(type(\"a\"))\n",
    "print(type('a'))\n",
    "#this is worong this is never valid dont use this ever print(type(\"\"a\"\"))\n",
    "print(type(\"\"\"abc\"\"\"))"
   ]
  },
  {
   "cell_type": "code",
   "execution_count": 18,
   "metadata": {},
   "outputs": [
    {
     "name": "stdout",
     "output_type": "stream",
     "text": [
      "hello\n",
      "word\n"
     ]
    }
   ],
   "source": [
    "print(\"hello\\nword\")"
   ]
  },
  {
   "cell_type": "code",
   "execution_count": 19,
   "metadata": {},
   "outputs": [
    {
     "name": "stdout",
     "output_type": "stream",
     "text": [
      "hello\tword\n"
     ]
    }
   ],
   "source": [
    "print(\"hello\\tword\")"
   ]
  },
  {
   "cell_type": "code",
   "execution_count": 20,
   "metadata": {},
   "outputs": [
    {
     "name": "stdout",
     "output_type": "stream",
     "text": [
      "hello\n",
      "\tword\n"
     ]
    }
   ],
   "source": [
    "print(\"hello\\n\\tword\")"
   ]
  },
  {
   "cell_type": "code",
   "execution_count": 25,
   "metadata": {},
   "outputs": [
    {
     "name": "stdout",
     "output_type": "stream",
     "text": [
      "rainy day\n",
      "both\n"
     ]
    }
   ],
   "source": [
    "##indentation is very important in pyton as you can see and u should be careful for tabs and spaces dont use both \n",
    "##in a single line it will give compilation error even if the idnetation is correct so dont confuse in this when\n",
    "##ever you are getting into a new line or if else or loop simply use the space as tab it would be better\n",
    "##you can also print complex no in python 3+5j; type will give complex\n"
    "Three ways of making stirng is " " ' ' multiple line comment or string ''' ''' """ """\n"
    "weather = \"rainy\"\n",
    "if weather:\n",
    "        print(\"rainy day\")\n",
    "else:\n",
    "        print(\"sunny day\")\n",
    "print(\"both\")"
   ]
  },
  {
   "cell_type": "code",
   "execution_count": 2,
   "metadata": {},
   "outputs": [
    {
     "name": "stdout",
     "output_type": "stream",
     "text": [
      "('capital of india is %s', 'delhi')\n",
      "capital of India is Delhi\n",
      "capital of india is delhi\n",
      "capital of india is delhi\n"
     ]
    }
   ],
   "source": [
    "#so this one is a woring way\n",
    "str1 = (\"capital of india is %s\",\"delhi\")\n",
    "print(str1)\n",
    "#correct way\n",
    "str2 = \"capital of %s is %s\"%(\"India\",\"Delhi\")\n",
    "print(str2)\n",
    "str3 = \"capital of india is %s\"%\"delhi\"\n",
    "print(str3)\n",
    "str4 = \"capital of india is %s\"%(\"delhi\")\n",
    "print(str4)"
   ]
  },
  {
   "cell_type": "code",
   "execution_count": 4,
   "metadata": {},
   "outputs": [
    {
     "name": "stdout",
     "output_type": "stream",
     "text": [
      "capital of india is delhi\n"
     ]
    }
   ],
   "source": [
    "#one more way of formatting is \n",
    "str5 = \"capital of {} is {}\".format(\"india\",\"delhi\")\n",
    "print(str5)"
   ]
  },
  {
   "cell_type": "code",
   "execution_count": 13,
   "metadata": {},
   "outputs": [
    {
     "name": "stdout",
     "output_type": "stream",
     "text": [
      "hey1\n",
      "you1\n",
      "hey2 you2\n",
      "hey2.you2\n",
      "hey2you2\n",
      "hey2 asa you2\n",
      "a b c\n",
      "a\n",
      "b\n",
      "c\n",
      "alojiblojic\n",
      "a         b         c\n"
     ]
    }
   ],
   "source": [
    "##end and sep\n",
    "#end\n",
    "print(\"hey1\")\n",
    "print(\"you1\")\n",
    "print(\"hey2\", end=\" \")\n",
    "print(\"you2\")\n",
    "print(\"hey2\", end=\".\")\n",
    "print(\"you2\")\n",
    "print(\"hey2\", end=\"\")\n",
    "print(\"you2\")\n",
    "print(\"hey2\", end=\" asa \")\n",
    "print(\"you2\")\n",
    "#sep\n",
    "print('a','b','c')\n",
    "print('a','b','c' ,sep = \"\\n\")\n",
    "print('a','b','c' ,sep = \"loji\")\n",
    "print('a','b','c' ,sep = \"         \")"
   ]
  },
  {
   "cell_type": "markdown",
   "metadata": {},
   "source": [
    "## Take user input and typecasting"
   ]
  },
  {
   "cell_type": "code",
   "execution_count": 3,
   "metadata": {},
   "outputs": [
    {
     "name": "stdout",
     "output_type": "stream",
     "text": [
      "Apoorv\n",
      "hello Apoorv\n",
      "<class 'str'>\n",
      "12\n",
      "<class 'str'>\n",
      "<class 'int'>\n"
     ]
    }
   ],
   "source": [
    "#taking input\n",
    "a = input()\n",
    "print(\"hello\"+\" \"+a)\n",
    "##this input string will always be of the type string\n",
    "print(type(a))\n",
    "b = input() # i will give input as integer here still it will be of the type string\n",
    "print(type(b))\n",
    "#so here comes the comcept of type casting\n",
    "print(type(int(b)))"
   ]
  },
  {
   "cell_type": "code",
   "execution_count": 4,
   "metadata": {},
   "outputs": [
    {
     "name": "stdout",
     "output_type": "stream",
     "text": [
      "12\n",
      "<class 'int'>\n"
     ]
    }
   ],
   "source": [
    "# we can take input as a int also\n",
    "c = int(input())\n",
    "print(type(c))"
   ]
  },
  {
   "cell_type": "code",
   "execution_count": 19,
   "metadata": {},
   "outputs": [
    {
     "data": {
      "text/plain": [
       "['10', '20', '30', '40', '345']"
      ]
     },
     "execution_count": 19,
     "metadata": {},
     "output_type": "execute_result"
    }
   ],
   "source": [
    "# want to read a list of numbers\n",
    "#list of string\n",
    "\"10 20 30 40 345\".split()"
   ]
  },
  {
   "cell_type": "code",
   "execution_count": 20,
   "metadata": {},
   "outputs": [],
   "source": [
    "\"avb 12 3 4 5 6 dde @\".split()\n",
    "z = \"10 20 30 40 345\".split()\n",
    "# in this case it will not give the output bcoz the lsit in in z and in order to print that u need to print z"
   ]
  },
  {
   "cell_type": "code",
   "execution_count": 21,
   "metadata": {},
   "outputs": [
    {
     "data": {
      "text/plain": [
       "['avb', '12', '3', '4', '5', '6', 'dde', '@']"
      ]
     },
     "execution_count": 21,
     "metadata": {},
     "output_type": "execute_result"
    }
   ],
   "source": [
    "\"10 20 30 40 345\".split()\n",
    "\"avb 12 3 4 5 6 dde @\".split()\n",
    "#in this case it will form a combined lsit"
   ]
  },
  {
   "cell_type": "code",
   "execution_count": 23,
   "metadata": {},
   "outputs": [
    {
     "name": "stdout",
     "output_type": "stream",
     "text": [
      "['avb', '12', '3', '4', '5', '6', 'dde', '@']\n",
      "['10', '20', '30', '40', '345']\n",
      "['avb', '12', '3', '4', '5', '6', 'dde', '@', '10', '20', '30', '40', '345']\n"
     ]
    }
   ],
   "source": [
    "ap = \"avb 12 3 4 5 6 dde @\".split()\n",
    "oo = \"10 20 30 40 345\".split()\n",
    "print(ap)\n",
    "print(oo)\n",
    "print(ap+oo)"
   ]
  },
  {
   "cell_type": "code",
   "execution_count": 28,
   "metadata": {},
   "outputs": [
    {
     "name": "stdout",
     "output_type": "stream",
     "text": [
      "['10', '20', '30', '40', '345']\n",
      "[10, 20, 30, 40, 345]\n"
     ]
    }
   ],
   "source": [
    "# now u need to go to evey element and need to tpye cast that\n",
    "# and we will use the list comprehenssion for that \n",
    "numbers = [no for no in oo]\n",
    "print(numbers)\n",
    "numbers  = [int(no) for no in oo]\n",
    "## after typecasting no will get converted in int\n",
    "print(numbers)"
   ]
  },
  {
   "cell_type": "code",
   "execution_count": 30,
   "metadata": {},
   "outputs": [
    {
     "name": "stdout",
     "output_type": "stream",
     "text": [
      "12 3 4 5 6 78 9 \n",
      "[12, 3, 4, 5, 6, 78, 9]\n"
     ]
    }
   ],
   "source": [
    "#if u want to take a input directly in the form of string\n",
    "laks = [int(no) for no in input().split()]\n",
    "print(laks)"
   ]
  },
  {
   "cell_type": "markdown",
   "metadata": {},
   "source": [
    "## operators and expressions"
   ]
  },
  {
   "cell_type": "code",
   "execution_count": 36,
   "metadata": {
    "scrolled": true
   },
   "outputs": [],
   "source": [
    "#Airthmetic operatoes \n",
    "# Add\n",
    "3+4\n",
    "# sub\n",
    "# divison\n",
    "car = 10/3\n",
    "#print(car)\n",
    "# mod \n",
    "# mul\n",
    "# floor divison\n",
    "imi = 10//3\n",
    "#print(imi)\n",
    "# to the power of \n",
    "## here i am also doing 3+4 it is not executed bcoz in one cell only one expression can be executed until\n",
    "## and unless u are not printing the staement after evaluation\n",
    "#hence this will not give a output"
   ]
  },
  {
   "cell_type": "code",
   "execution_count": 37,
   "metadata": {},
   "outputs": [
    {
     "data": {
      "text/plain": [
       "6"
      ]
     },
     "execution_count": 37,
     "metadata": {},
     "output_type": "execute_result"
    }
   ],
   "source": [
    "3+3"
   ]
  },
  {
   "cell_type": "code",
   "execution_count": 39,
   "metadata": {},
   "outputs": [
    {
     "data": {
      "text/plain": [
       "1.6666666666666667"
      ]
     },
     "execution_count": 39,
     "metadata": {},
     "output_type": "execute_result"
    }
   ],
   "source": [
    "10/6"
   ]
  },
  {
   "cell_type": "code",
   "execution_count": 40,
   "metadata": {},
   "outputs": [
    {
     "data": {
      "text/plain": [
       "1"
      ]
     },
     "execution_count": 40,
     "metadata": {},
     "output_type": "execute_result"
    }
   ],
   "source": [
    "10//6"
   ]
  },
  {
   "cell_type": "code",
   "execution_count": 41,
   "metadata": {},
   "outputs": [
    {
     "data": {
      "text/plain": [
       "2"
      ]
     },
     "execution_count": 41,
     "metadata": {},
     "output_type": "execute_result"
    }
   ],
   "source": [
    "10%4\n",
    "#remainder"
   ]
  },
  {
   "cell_type": "code",
   "execution_count": 42,
   "metadata": {},
   "outputs": [
    {
     "data": {
      "text/plain": [
       "625"
      ]
     },
     "execution_count": 42,
     "metadata": {},
     "output_type": "execute_result"
    }
   ],
   "source": [
    "5**4\n",
    "#power"
   ]
  },
  {
   "cell_type": "code",
   "execution_count": 5,
   "metadata": {},
   "outputs": [
    {
     "name": "stdout",
     "output_type": "stream",
     "text": [
      "8\n"
     ]
    }
   ],
   "source": [
    "#Assignment operators\n",
    "# = , += , -= , *= , /= , %= , **=\n",
    "a = 5 \n",
    "a+=3 # a= a + 3  and similary for others operaors\n",
    "print(a)"
   ]
  },
  {
   "cell_type": "code",
   "execution_count": 1,
   "metadata": {},
   "outputs": [
    {
     "data": {
      "text/plain": [
       "True"
      ]
     },
     "execution_count": 1,
     "metadata": {},
     "output_type": "execute_result"
    }
   ],
   "source": [
    "#LogicL operators\n",
    "#and or not\n",
    "#comparison operators\n",
    "#== , <= , >= , != , > , <\n",
    "a = 5\n",
    "a!=6"
   ]
  },
  {
   "cell_type": "code",
   "execution_count": 7,
   "metadata": {},
   "outputs": [
    {
     "name": "stdout",
     "output_type": "stream",
     "text": [
      "8\n",
      "8\n"
     ]
    }
   ],
   "source": [
    "#logical operators\n",
    "wea = \"su\"\n",
    "ti = 12\n",
    "print(a)\n",
    "if wea==\"su\" and ti==12:\n",
    "    print(a)\n",
    "else:\n",
    "    print(\"h\")"
   ]
  },
  {
   "cell_type": "code",
   "execution_count": 8,
   "metadata": {},
   "outputs": [
    {
     "name": "stdout",
     "output_type": "stream",
     "text": [
      "8\n",
      "h\n"
     ]
    }
   ],
   "source": [
    "wea = \"su\"\n",
    "ti = 12\n",
    "print(a)\n",
    "if not wea==\"su\" and ti==12:\n",
    "    print(a)\n",
    "else:\n",
    "    print(\"h\")"
   ]
  },
  {
   "cell_type": "markdown",
   "metadata": {},
   "source": [
    "## if else "
   ]
  },
  {
   "cell_type": "code",
   "execution_count": 9,
   "metadata": {},
   "outputs": [],
   "source": [
    "#in pyhon we use elif\n",
    "# nested if else indendation should be handleld carefully"
   ]
  },
  {
   "cell_type": "markdown",
   "metadata": {},
   "source": [
    "## loop"
   ]
  },
  {
   "cell_type": "code",
   "execution_count": 8,
   "metadata": {},
   "outputs": [
    {
     "name": "stdout",
     "output_type": "stream",
     "text": [
      "so here comes while loop\n",
      "step 1\n",
      "step 2\n",
      "step 3\n",
      "step 4\n",
      "step 5\n",
      "step 6\n",
      "step 7\n",
      "step 8\n",
      "step 9\n",
      "step 10\n",
      "while loop finished\n",
      "so here for loop\n",
      "1,2,3,4,5,6,7,8,9,\n",
      " for loop finished\n"
     ]
    }
   ],
   "source": [
    "#while loop\n",
    "print(\"so here comes while loop\")\n",
    "n =10\n",
    "i = 1;\n",
    "while i<=n:\n",
    "    print(\"step %d\"%i)\n",
    "    i+=1\n",
    "print(\"while loop finished\")\n",
    "#for  loop\n",
    "print(\"so here for loop\")\n",
    "for i in range(1,10):\n",
    "    print(i,end=\",\")\n",
    "print(\"\\n for loop finished\")\n",
    "#for  each loop\n",
    "# the i itself is the complete elemet "
   ]
  },
  {
   "cell_type": "code",
   "execution_count": 11,
   "metadata": {},
   "outputs": [
    {
     "name": "stdout",
     "output_type": "stream",
     "text": [
      "range(1, 10)\n",
      "1,2,3,4,5,6,7,8,9,1,3,5,7,9,"
     ]
    }
   ],
   "source": [
    "##range function\n",
    "print(range(1,10)) #this range funciton returns the iterator\n",
    "#here 1 is starting point and 10 is the ending point+1 means it will end at 9 as u can see in the above loop\n",
    "#you can also take a jump in loop by giving the third parametere\n",
    "for i in range(1,10):\n",
    "     print(i,end=\",\")\n",
    "#here there will be a jump of 2 while printing the loop\n",
    "for i in range(1,10,2):\n",
    "     print(i,end=\",\")        "
   ]
  },
  {
   "cell_type": "code",
   "execution_count": 12,
   "metadata": {},
   "outputs": [
    {
     "name": "stdout",
     "output_type": "stream",
     "text": [
      "3628800\n"
     ]
    }
   ],
   "source": [
    "#factorial of a 10\n",
    "ans = 1\n",
    "for i in range(1,11):\n",
    "    ans = ans*i\n",
    "print(ans)"
   ]
  },
  {
   "cell_type": "code",
   "execution_count": 15,
   "metadata": {},
   "outputs": [
    {
     "name": "stdout",
     "output_type": "stream",
     "text": [
      "10 8 6 4 2 "
     ]
    }
   ],
   "source": [
    "#avoid infinite loop\n",
    "# reverse loop with a jump of 2 like 10 9 8 7 you can use \n",
    "for i in range(10,1,-2):\n",
    "    print(i ,end=\" \")"
   ]
  },
  {
   "cell_type": "code",
   "execution_count": 22,
   "metadata": {},
   "outputs": [
    {
     "name": "stdout",
     "output_type": "stream",
     "text": [
      "0: 0 1 2 3 4 \n",
      "\n",
      "1: 0 1 2 3 4 \n",
      "\n",
      "2: 0 1 2 3 4 \n",
      "\n",
      "3: 0 1 2 3 4 \n",
      "\n",
      "4: 0 1 2 3 4 \n",
      "\n"
     ]
    }
   ],
   "source": [
    "#nested loop\n",
    "for i in range(5):\n",
    "    print(i ,end=\": \")\n",
    "    for j in range(5):\n",
    "        print(j ,end=\" \")\n",
    "    print(\"\\n\")"
   ]
  },
  {
   "cell_type": "code",
   "execution_count": 28,
   "metadata": {},
   "outputs": [
    {
     "name": "stdout",
     "output_type": "stream",
     "text": [
      "5 5 5 5 5 \n",
      "5 4 4 4 5 \n",
      "5 4 3 4 5 \n",
      "5 4 4 4 5 \n",
      "5 5 5 5 5 \n"
     ]
    }
   ],
   "source": [
    "#print spiral form of matrix\n",
    "n=5\n",
    "for i in range(n):\n",
    "    for j in range(n):\n",
    "        print(max(i+1,j+1,n-i,n-j) ,end=\" \")\n",
    "    print()"
   ]
  },
  {
   "cell_type": "code",
   "execution_count": 29,
   "metadata": {},
   "outputs": [
    {
     "name": "stdout",
     "output_type": "stream",
     "text": [
      "0\n",
      "1\n",
      "2\n",
      "3\n",
      "4\n"
     ]
    }
   ],
   "source": [
    "n=5\n",
    "for i in range(n):\n",
    "    print(i)\n",
    "#so meanis it always start from 0 when u print like this"
   ]
  },
  {
   "cell_type": "code",
   "execution_count": 31,
   "metadata": {},
   "outputs": [
    {
     "name": "stdout",
     "output_type": "stream",
     "text": [
      "4\n"
     ]
    }
   ],
   "source": [
    "#break continue and pass statements\n",
    "#pass skip code for a condition\n",
    "n=5\n",
    "for i in range(n):\n",
    "    if i==4:\n",
    "        print(i)\n",
    "    pass\n",
    "  "
   ]
  },
  {
   "cell_type": "code",
   "execution_count": 37,
   "metadata": {},
   "outputs": [],
   "source": [
    "n=5\n",
    "for i in range(n):\n",
    "#so as we can see this is giving us an error as we have not written anything\n",
    "    pass\n",
    "#after writting pass it is not giving me the error"
   ]
  },
  {
   "cell_type": "code",
   "execution_count": 38,
   "metadata": {},
   "outputs": [],
   "source": [
    "#break will take u out of the loop \n",
    "#continue will skip the part where ever it is tackled and will execute from the new value or next value of i in loop"
   ]
  },
  {
   "cell_type": "code",
   "execution_count": 43,
   "metadata": {},
   "outputs": [
    {
     "name": "stdout",
     "output_type": "stream",
     "text": [
      "45\n",
      "1 11 13 17 19 23 29 31 37 41 43 "
     ]
    }
   ],
   "source": [
    "# write all prime no up to n \n",
    "a  = int(input())\n",
    "for i in range(a):\n",
    "    if(i==0):\n",
    "        continue\n",
    "    elif i%2!=0 and i%3!=0 and i%5!=0 and i%7!=0:\n",
    "        print(i , end=\" \")\n",
    "    else:\n",
    "        pass"
   ]
  },
  {
   "cell_type": "markdown",
   "metadata": {},
   "source": [
    "## keyword Arguments"
   ]
  },
  {
   "cell_type": "code",
   "execution_count": 4,
   "metadata": {},
   "outputs": [
    {
     "name": "stdout",
     "output_type": "stream",
     "text": [
      "i scored score in subjsubj with roll noroll\n"
     ]
    }
   ],
   "source": [
    "# so basically this is a wrong way the correct way is in the below one cell\n",
    "def myfu(score,subj,roll):\n",
    "    print(\"i scored {} in subj{} with roll no{}\".format(\"score\",\"subj\",\"roll\"))\n",
    "myfu(20,\"math\",6)"
   ]
  },
  {
   "cell_type": "code",
   "execution_count": 6,
   "metadata": {},
   "outputs": [
    {
     "name": "stdout",
     "output_type": "stream",
     "text": [
      "i scored 20 in subj math with roll no 6\n"
     ]
    }
   ],
   "source": [
    "def myfu(score,subj,roll):\n",
    "    print(\"i scored {} in subj {} with roll no {}\".format(score,subj,roll))\n",
    "myfu(20,\"math\",6)"
   ]
  },
  {
   "cell_type": "code",
   "execution_count": 10,
   "metadata": {},
   "outputs": [
    {
     "name": "stdout",
     "output_type": "stream",
     "text": [
      "i scored math in subj 20 with roll no 6\n"
     ]
    }
   ],
   "source": [
    "#here i am not passing the arguments in the correct order so it will not give me error and i will be printing in random order\n",
    "def myfu(score,subj,roll):\n",
    "    print(\"i scored {} in subj {} with roll no {}\".format(score,subj,roll))\n",
    "myfu(\"math\",20,6)"
   ]
  },
  {
   "cell_type": "code",
   "execution_count": 11,
   "metadata": {},
   "outputs": [
    {
     "name": "stdout",
     "output_type": "stream",
     "text": [
      "my score is 34 in maths\n"
     ]
    }
   ],
   "source": [
    "#here if i will not pass in the correct order than definitely it will give the error\n",
    "def newfu(score,subj):\n",
    "    print(\"my score is %d in %s\"%(score,subj))\n",
    "newfu(34,\"maths\")"
   ]
  },
  {
   "cell_type": "code",
   "execution_count": 12,
   "metadata": {},
   "outputs": [
    {
     "ename": "TypeError",
     "evalue": "%d format: a number is required, not str",
     "output_type": "error",
     "traceback": [
      "\u001b[1;31m---------------------------------------------------------------------------\u001b[0m",
      "\u001b[1;31mTypeError\u001b[0m                                 Traceback (most recent call last)",
      "\u001b[1;32m<ipython-input-12-3862e3e46c5a>\u001b[0m in \u001b[0;36m<module>\u001b[1;34m\u001b[0m\n\u001b[0;32m      1\u001b[0m \u001b[1;32mdef\u001b[0m \u001b[0mnewfu\u001b[0m\u001b[1;33m(\u001b[0m\u001b[0mscore\u001b[0m\u001b[1;33m,\u001b[0m\u001b[0msubj\u001b[0m\u001b[1;33m)\u001b[0m\u001b[1;33m:\u001b[0m\u001b[1;33m\u001b[0m\u001b[1;33m\u001b[0m\u001b[0m\n\u001b[0;32m      2\u001b[0m     \u001b[0mprint\u001b[0m\u001b[1;33m(\u001b[0m\u001b[1;34m\"my score is %d in %s\"\u001b[0m\u001b[1;33m%\u001b[0m\u001b[1;33m(\u001b[0m\u001b[0mscore\u001b[0m\u001b[1;33m,\u001b[0m\u001b[0msubj\u001b[0m\u001b[1;33m)\u001b[0m\u001b[1;33m)\u001b[0m\u001b[1;33m\u001b[0m\u001b[1;33m\u001b[0m\u001b[0m\n\u001b[1;32m----> 3\u001b[1;33m \u001b[0mnewfu\u001b[0m\u001b[1;33m(\u001b[0m\u001b[1;34m\"maths\"\u001b[0m\u001b[1;33m,\u001b[0m\u001b[1;36m34\u001b[0m\u001b[1;33m)\u001b[0m\u001b[1;33m\u001b[0m\u001b[1;33m\u001b[0m\u001b[0m\n\u001b[0m",
      "\u001b[1;32m<ipython-input-12-3862e3e46c5a>\u001b[0m in \u001b[0;36mnewfu\u001b[1;34m(score, subj)\u001b[0m\n\u001b[0;32m      1\u001b[0m \u001b[1;32mdef\u001b[0m \u001b[0mnewfu\u001b[0m\u001b[1;33m(\u001b[0m\u001b[0mscore\u001b[0m\u001b[1;33m,\u001b[0m\u001b[0msubj\u001b[0m\u001b[1;33m)\u001b[0m\u001b[1;33m:\u001b[0m\u001b[1;33m\u001b[0m\u001b[1;33m\u001b[0m\u001b[0m\n\u001b[1;32m----> 2\u001b[1;33m     \u001b[0mprint\u001b[0m\u001b[1;33m(\u001b[0m\u001b[1;34m\"my score is %d in %s\"\u001b[0m\u001b[1;33m%\u001b[0m\u001b[1;33m(\u001b[0m\u001b[0mscore\u001b[0m\u001b[1;33m,\u001b[0m\u001b[0msubj\u001b[0m\u001b[1;33m)\u001b[0m\u001b[1;33m)\u001b[0m\u001b[1;33m\u001b[0m\u001b[1;33m\u001b[0m\u001b[0m\n\u001b[0m\u001b[0;32m      3\u001b[0m \u001b[0mnewfu\u001b[0m\u001b[1;33m(\u001b[0m\u001b[1;34m\"maths\"\u001b[0m\u001b[1;33m,\u001b[0m\u001b[1;36m34\u001b[0m\u001b[1;33m)\u001b[0m\u001b[1;33m\u001b[0m\u001b[1;33m\u001b[0m\u001b[0m\n",
      "\u001b[1;31mTypeError\u001b[0m: %d format: a number is required, not str"
     ]
    }
   ],
   "source": [
    "def newfu(score,subj):\n",
    "    print(\"my score is %d in %s\"%(score,subj))\n",
    "newfu(\"maths\",34)"
   ]
  },
  {
   "cell_type": "code",
   "execution_count": 13,
   "metadata": {},
   "outputs": [
    {
     "name": "stdout",
     "output_type": "stream",
     "text": [
      "my score is 5 in maths and my nu is 34\n"
     ]
    }
   ],
   "source": [
    "#here also it is giving in a wrong order \n",
    "def newfu(score,subj,roll):\n",
    "    print(\"my score is %d in %s and my nu is %d\"%(score,subj,roll))\n",
    "newfu(5,\"maths\",34)"
   ]
  },
  {
   "cell_type": "code",
   "execution_count": 14,
   "metadata": {},
   "outputs": [
    {
     "name": "stdout",
     "output_type": "stream",
     "text": [
      "my score is 34 in maths and my nu is 5\n"
     ]
    }
   ],
   "source": [
    "#so if we forget the way in which we have to pass the arguments in the function than we can use this \n",
    "def newfu(score,subj,roll):\n",
    "    print(\"my score is %d in %s and my nu is %d\"%(score,subj,roll))\n",
    "newfu(subj=\"maths\",roll=5,score=34)"
   ]
  },
  {
   "cell_type": "code",
   "execution_count": 18,
   "metadata": {},
   "outputs": [
    {
     "name": "stdout",
     "output_type": "stream",
     "text": [
      "helloword+"
     ]
    }
   ],
   "source": [
    "#key word argument should be at the end always it can not be varried positionally similar to sep\n",
    "print(\"hello\"+\"word\" ,end=\"+\")\n",
    "#this line will definitely give the error\n",
    "#print(end=\"+\",\"hello\"+\"word\")"
   ]
  },
  {
   "cell_type": "markdown",
   "metadata": {},
   "source": [
    "## String and builtin method"
   ]
  },
  {
   "cell_type": "code",
   "execution_count": 19,
   "metadata": {},
   "outputs": [
    {
     "name": "stdout",
     "output_type": "stream",
     "text": [
      "d\n"
     ]
    }
   ],
   "source": [
    "a = \"coding blocks\"\n",
    "print(a[2])"
   ]
  },
  {
   "cell_type": "code",
   "execution_count": 20,
   "metadata": {},
   "outputs": [
    {
     "name": "stdout",
     "output_type": "stream",
     "text": [
      "s\n",
      "k\n",
      "c\n",
      "o\n",
      "l\n"
     ]
    }
   ],
   "source": [
    "##indexing of string start with o if we start from starting \n",
    "## similary indexing of string start with -1 if we start from end\n",
    "print(a[-1])\n",
    "print(a[-2])\n",
    "print(a[-3])\n",
    "print(a[-4])\n",
    "print(a[-5])"
   ]
  },
  {
   "cell_type": "code",
   "execution_count": 22,
   "metadata": {},
   "outputs": [],
   "source": [
    "#it will give me error if i am using the invalid index\n",
    "#print(a[-14])"
   ]
  },
  {
   "cell_type": "code",
   "execution_count": 23,
   "metadata": {},
   "outputs": [
    {
     "name": "stdout",
     "output_type": "stream",
     "text": [
      "13\n"
     ]
    }
   ],
   "source": [
    "#length of the string\n",
    "print(len(a))"
   ]
  },
  {
   "cell_type": "code",
   "execution_count": 26,
   "metadata": {},
   "outputs": [
    {
     "name": "stdout",
     "output_type": "stream",
     "text": [
      "e\n"
     ]
    }
   ],
   "source": [
    "#very imp python string are not mutable means u can not update a value of a string like this it will give u the error\n",
    "#a[2]=\"e\"\n",
    "#assignment at a particular index is not allowed instead u can use the assignment for the complete string \n",
    "a = \"coeing blocks\"\n",
    "print(a[2])"
   ]
  },
  {
   "cell_type": "code",
   "execution_count": 29,
   "metadata": {},
   "outputs": [
    {
     "name": "stdout",
     "output_type": "stream",
     "text": [
      "c o e i n g   b l o c k s "
     ]
    }
   ],
   "source": [
    "# for loop\n",
    "for i in range(len(a)):\n",
    "    print(a[i], end = \" \")"
   ]
  },
  {
   "cell_type": "code",
   "execution_count": 30,
   "metadata": {},
   "outputs": [
    {
     "name": "stdout",
     "output_type": "stream",
     "text": [
      "c o e i n g   b l o c k s "
     ]
    }
   ],
   "source": [
    "# this is for each loop\n",
    "for i in a:\n",
    "    print(i , end=\" \")"
   ]
  },
  {
   "cell_type": "code",
   "execution_count": 31,
   "metadata": {},
   "outputs": [],
   "source": [
    "#so there should be a clarity in both of the above for loops "
   ]
  },
  {
   "cell_type": "markdown",
   "metadata": {},
   "source": [
    "## Woking with strings"
   ]
  },
  {
   "cell_type": "code",
   "execution_count": 32,
   "metadata": {},
   "outputs": [
    {
     "name": "stdout",
     "output_type": "stream",
     "text": [
      "mangojuice\n"
     ]
    }
   ],
   "source": [
    "a = \"mango\"\n",
    "b = \"juice\"\n",
    "print(a+b)"
   ]
  },
  {
   "cell_type": "code",
   "execution_count": 33,
   "metadata": {},
   "outputs": [
    {
     "name": "stdout",
     "output_type": "stream",
     "text": [
      "mangomangomangomangomango juicejuicejuice\n"
     ]
    }
   ],
   "source": [
    "print(a*5+\" \"+b*3)"
   ]
  },
  {
   "cell_type": "code",
   "execution_count": 36,
   "metadata": {},
   "outputs": [
    {
     "data": {
      "text/plain": [
       "'a'"
      ]
     },
     "execution_count": 36,
     "metadata": {},
     "output_type": "execute_result"
    }
   ],
   "source": [
    "#slicing\n",
    "a[1]"
   ]
  },
  {
   "cell_type": "code",
   "execution_count": 41,
   "metadata": {},
   "outputs": [
    {
     "data": {
      "text/plain": [
       "'an'"
      ]
     },
     "execution_count": 41,
     "metadata": {},
     "output_type": "execute_result"
    }
   ],
   "source": [
    "#range slicing\n",
    "a[:]\n",
    "a[1:-2]\n",
    "# a[start:end-1]\n",
    "#here it will be printing the updated array"
   ]
  },
  {
   "cell_type": "code",
   "execution_count": 39,
   "metadata": {},
   "outputs": [
    {
     "data": {
      "text/plain": [
       "'ma'"
      ]
     },
     "execution_count": 39,
     "metadata": {},
     "output_type": "execute_result"
    }
   ],
   "source": [
    "a[:2]\n",
    "#meanind it is like\n",
    "# a[start:end+1]"
   ]
  },
  {
   "cell_type": "code",
   "execution_count": 42,
   "metadata": {},
   "outputs": [
    {
     "data": {
      "text/plain": [
       "'o'"
      ]
     },
     "execution_count": 42,
     "metadata": {},
     "output_type": "execute_result"
    }
   ],
   "source": [
    "a[-1:]"
   ]
  },
  {
   "cell_type": "code",
   "execution_count": 45,
   "metadata": {},
   "outputs": [
    {
     "data": {
      "text/plain": [
       "True"
      ]
     },
     "execution_count": 45,
     "metadata": {},
     "output_type": "execute_result"
    }
   ],
   "source": [
    "#membership - substring is pressent in a bigger string\n",
    "'go' in a"
   ]
  },
  {
   "cell_type": "code",
   "execution_count": 48,
   "metadata": {},
   "outputs": [
    {
     "name": "stdout",
     "output_type": "stream",
     "text": [
      "my name is Apoorv and i am 20 year old and very strong\n"
     ]
    }
   ],
   "source": [
    "#string formating\n",
    "#%D will definitely give the error\n",
    "print(\"my name is %s and i am %d year old and very %s\"%(\"Apoorv\",20,\"strong\"))"
   ]
  },
  {
   "cell_type": "code",
   "execution_count": 49,
   "metadata": {},
   "outputs": [
    {
     "name": "stdout",
     "output_type": "stream",
     "text": [
      "this is \n",
      "some para written here \n",
      "please dont copy it here\n"
     ]
    }
   ],
   "source": [
    "para = \"\"\"this is \n",
    "some para written here \n",
    "please dont copy it here\"\"\"\n",
    "print(para)"
   ]
  },
  {
   "cell_type": "markdown",
   "metadata": {},
   "source": [
    "## String more inbuilt"
   ]
  },
  {
   "cell_type": "code",
   "execution_count": 56,
   "metadata": {},
   "outputs": [
    {
     "name": "stdout",
     "output_type": "stream",
     "text": [
      "['this', 'is', 'some', 'para', 'written', 'here', 'please', 'dont', 'copy', 'it', 'here']\n",
      "<class 'list'>\n",
      "<class 'str'>\n"
     ]
    }
   ],
   "source": [
    "l = para.split()\n",
    "print(l)\n",
    "print(type(l))\n",
    "print(type(l[0]))"
   ]
  },
  {
   "cell_type": "code",
   "execution_count": 58,
   "metadata": {},
   "outputs": [
    {
     "data": {
      "text/plain": [
       "['this is ', 'some para written here ', 'please dont copy it here']"
      ]
     },
     "execution_count": 58,
     "metadata": {},
     "output_type": "execute_result"
    }
   ],
   "source": [
    "#it can also be splitted in the line like the words\n",
    "para.splitlines()"
   ]
  },
  {
   "cell_type": "code",
   "execution_count": 59,
   "metadata": {},
   "outputs": [
    {
     "data": {
      "text/plain": [
       "'MANGO'"
      ]
     },
     "execution_count": 59,
     "metadata": {},
     "output_type": "execute_result"
    }
   ],
   "source": [
    "fruit = \"mango\"\n",
    "fruit.upper()"
   ]
  },
  {
   "cell_type": "code",
   "execution_count": 60,
   "metadata": {},
   "outputs": [
    {
     "name": "stdout",
     "output_type": "stream",
     "text": [
      "mango\n"
     ]
    }
   ],
   "source": [
    "print(fruit)"
   ]
  },
  {
   "cell_type": "code",
   "execution_count": 62,
   "metadata": {},
   "outputs": [
    {
     "name": "stdout",
     "output_type": "stream",
     "text": [
      "MANGO\n",
      "mango\n"
     ]
    }
   ],
   "source": [
    "fruit = fruit.upper()\n",
    "print(fruit)\n",
    "fruit = fruit.lower()\n",
    "print(fruit)"
   ]
  },
  {
   "cell_type": "code",
   "execution_count": 68,
   "metadata": {},
   "outputs": [
    {
     "name": "stdout",
     "output_type": "stream",
     "text": [
      "17\n"
     ]
    }
   ],
   "source": [
    "shake = \" apple shake     \"\n",
    "print(len(shake))"
   ]
  },
  {
   "cell_type": "code",
   "execution_count": 70,
   "metadata": {},
   "outputs": [
    {
     "name": "stdout",
     "output_type": "stream",
     "text": [
      " apple shake     \n",
      "17\n",
      "apple shake     \n",
      "16\n",
      "apple shake\n",
      "11\n"
     ]
    }
   ],
   "source": [
    "#now we can remove left and right spaces from here using lstip and rstrip\n",
    "#removing the ending and leading white space\n",
    "print(shake)\n",
    "print(len(shake))\n",
    "shake  = shake.lstrip()\n",
    "print(shake)\n",
    "print(len(shake))\n",
    "shake  = shake.rstrip()\n",
    "print(shake)\n",
    "print(len(shake))\n",
    "#all the lstrip and rstip can also be removed together using \n",
    "#shake = shake.strip()"
   ]
  },
  {
   "cell_type": "code",
   "execution_count": 73,
   "metadata": {},
   "outputs": [
    {
     "data": {
      "text/plain": [
       "True"
      ]
     },
     "execution_count": 73,
     "metadata": {},
     "output_type": "execute_result"
    }
   ],
   "source": [
    "a = \"93\"\n",
    "a.isdigit()"
   ]
  },
  {
   "cell_type": "code",
   "execution_count": 74,
   "metadata": {},
   "outputs": [
    {
     "data": {
      "text/plain": [
       "False"
      ]
     },
     "execution_count": 74,
     "metadata": {},
     "output_type": "execute_result"
    }
   ],
   "source": [
    "a = \"93av\"\n",
    "a.isdigit()"
   ]
  },
  {
   "cell_type": "code",
   "execution_count": 75,
   "metadata": {},
   "outputs": [
    {
     "data": {
      "text/plain": [
       "True"
      ]
     },
     "execution_count": 75,
     "metadata": {},
     "output_type": "execute_result"
    }
   ],
   "source": [
    "b = \"hgu\"\n",
    "b.isalpha()"
   ]
  },
  {
   "cell_type": "code",
   "execution_count": 76,
   "metadata": {},
   "outputs": [
    {
     "data": {
      "text/plain": [
       "False"
      ]
     },
     "execution_count": 76,
     "metadata": {},
     "output_type": "execute_result"
    }
   ],
   "source": [
    "b = \"67hagah\"\n",
    "b.isalpha()"
   ]
  },
  {
   "cell_type": "code",
   "execution_count": 89,
   "metadata": {},
   "outputs": [
    {
     "name": "stdout",
     "output_type": "stream",
     "text": [
      "True\n",
      "False\n",
      "False\n",
      "True\n",
      "False\n"
     ]
    }
   ],
   "source": [
    "c = \"1Hsu8sj\"\n",
    "d= \"   \"\n",
    "e = \"hhaha  ah \"\n",
    "print(c.isalnum())\n",
    "#c.islower()#it is not in lowe case so it will print false the updated output so i will comment this\n",
    "print(c.islower())\n",
    "print(c.isspace())#it check if all the char are white space then it is true\n",
    "print(d.isspace())\n",
    "print(e.isspace())\n",
    "# isalnum only checks for the char and digits"
   ]
  },
  {
   "cell_type": "code",
   "execution_count": 80,
   "metadata": {},
   "outputs": [
    {
     "data": {
      "text/plain": [
       "False"
      ]
     },
     "execution_count": 80,
     "metadata": {},
     "output_type": "execute_result"
    }
   ],
   "source": [
    "c = \"1hsu8s@j\"\n",
    "c.isalnum()\n",
    "#@is neither numeric no nor a digit hence it will print false"
   ]
  },
  {
   "cell_type": "markdown",
   "metadata": {},
   "source": [
    "## some more functions :)\n",
    "- Find function\n",
    "- replace\n",
    "- count function\n",
    "- join function\n",
    "- title function\n",
    "- capitalise"
   ]
  },
  {
   "cell_type": "code",
   "execution_count": 94,
   "metadata": {},
   "outputs": [
    {
     "name": "stdout",
     "output_type": "stream",
     "text": [
      "-1\n",
      "18\n"
     ]
    }
   ],
   "source": [
    "a = \"I love having the Apple juice , and I like to eat green Apple\"\n",
    "print(a.find(\"apple\"))#if the string is not pressent it will show -1\n",
    "print(a.find(\"Apple\"))#it will return the first occourence"
   ]
  },
  {
   "cell_type": "code",
   "execution_count": 95,
   "metadata": {},
   "outputs": [
    {
     "data": {
      "text/plain": [
       "56"
      ]
     },
     "execution_count": 95,
     "metadata": {},
     "output_type": "execute_result"
    }
   ],
   "source": [
    "#we can also give the parametere in which we want to find\n",
    "a.find(\"Apple\",30,len(a))"
   ]
  },
  {
   "cell_type": "code",
   "execution_count": 96,
   "metadata": {},
   "outputs": [
    {
     "data": {
      "text/plain": [
       "18"
      ]
     },
     "execution_count": 96,
     "metadata": {},
     "output_type": "execute_result"
    }
   ],
   "source": [
    "a.index(\"Apple\")"
   ]
  },
  {
   "cell_type": "code",
   "execution_count": 97,
   "metadata": {},
   "outputs": [
    {
     "ename": "ValueError",
     "evalue": "substring not found",
     "output_type": "error",
     "traceback": [
      "\u001b[1;31m---------------------------------------------------------------------------\u001b[0m",
      "\u001b[1;31mValueError\u001b[0m                                Traceback (most recent call last)",
      "\u001b[1;32m<ipython-input-97-98f79e90468b>\u001b[0m in \u001b[0;36m<module>\u001b[1;34m\u001b[0m\n\u001b[1;32m----> 1\u001b[1;33m \u001b[0ma\u001b[0m\u001b[1;33m.\u001b[0m\u001b[0mindex\u001b[0m\u001b[1;33m(\u001b[0m\u001b[1;34m\"apple\"\u001b[0m\u001b[1;33m)\u001b[0m\u001b[1;33m\u001b[0m\u001b[1;33m\u001b[0m\u001b[0m\n\u001b[0m",
      "\u001b[1;31mValueError\u001b[0m: substring not found"
     ]
    }
   ],
   "source": [
    "#a.index(\"apple\")here it will show the error wheras find was giving -1 so the only dif is this rest it is same"
   ]
  },
  {
   "cell_type": "code",
   "execution_count": 100,
   "metadata": {},
   "outputs": [
    {
     "name": "stdout",
     "output_type": "stream",
     "text": [
      "I love having the Mango juice , and I like to eat green Mango\n"
     ]
    }
   ],
   "source": [
    "#replace\n",
    "a = a.replace(\"Apple\",\"Mango\")\n",
    "print(a)"
   ]
  },
  {
   "cell_type": "code",
   "execution_count": 101,
   "metadata": {},
   "outputs": [
    {
     "data": {
      "text/plain": [
       "2"
      ]
     },
     "execution_count": 101,
     "metadata": {},
     "output_type": "execute_result"
    }
   ],
   "source": [
    "#count\n",
    "a.count(\"Mango\")#no of times the word is ihat string"
   ]
  },
  {
   "cell_type": "code",
   "execution_count": 102,
   "metadata": {},
   "outputs": [
    {
     "data": {
      "text/plain": [
       "0"
      ]
     },
     "execution_count": 102,
     "metadata": {},
     "output_type": "execute_result"
    }
   ],
   "source": [
    "a.count(\"Mangoes\")"
   ]
  },
  {
   "cell_type": "code",
   "execution_count": 103,
   "metadata": {},
   "outputs": [
    {
     "name": "stdout",
     "output_type": "stream",
     "text": [
      "['I', 'love', 'having', 'the', 'Mango', 'juice', ',', 'and', 'I', 'like', 'to', 'eat', 'green', 'Mango']\n"
     ]
    }
   ],
   "source": [
    "#join\n",
    "l = a.split()\n",
    "print(l)"
   ]
  },
  {
   "cell_type": "code",
   "execution_count": 104,
   "metadata": {},
   "outputs": [
    {
     "data": {
      "text/plain": [
       "'I_love_having_the_Mango_juice_,_and_I_like_to_eat_green_Mango'"
      ]
     },
     "execution_count": 104,
     "metadata": {},
     "output_type": "execute_result"
    }
   ],
   "source": [
    "\"_\".join(l)"
   ]
  },
  {
   "cell_type": "code",
   "execution_count": 105,
   "metadata": {},
   "outputs": [
    {
     "data": {
      "text/plain": [
       "'I-love-having-the-Mango-juice-,-and-I-like-to-eat-green-Mango'"
      ]
     },
     "execution_count": 105,
     "metadata": {},
     "output_type": "execute_result"
    }
   ],
   "source": [
    "b = \"-\"#it just insert the element jin double space  between all the words of the string \n",
    "b.join(l)"
   ]
  },
  {
   "cell_type": "code",
   "execution_count": 112,
   "metadata": {},
   "outputs": [
    {
     "name": "stdout",
     "output_type": "stream",
     "text": [
      "Coding blocks\n",
      "Coding Blocks\n"
     ]
    }
   ],
   "source": [
    "#title function\n",
    "#capitalzse\n",
    "name_org = \"coding blocks\"\n",
    "#capitals the first alphabhet it will only capitalise the first words alphabhet \n",
    "#if u want to do this with all then u should use the title function\n",
    "print(name_org.capitalize())\n",
    "print(name_org.title())"
   ]
  },
  {
   "cell_type": "code",
   "execution_count": null,
   "metadata": {},
   "outputs": [],
   "source": []
  }
 ],
 "metadata": {
  "kernelspec": {
   "display_name": "Python 3",
   "language": "python",
   "name": "python3"
  },
  "language_info": {
   "codemirror_mode": {
    "name": "ipython",
    "version": 3
   },
   "file_extension": ".py",
   "mimetype": "text/x-python",
   "name": "python",
   "nbconvert_exporter": "python",
   "pygments_lexer": "ipython3",
   "version": "3.8.2"
  }
 },
 "nbformat": 4,
 "nbformat_minor": 4
}
