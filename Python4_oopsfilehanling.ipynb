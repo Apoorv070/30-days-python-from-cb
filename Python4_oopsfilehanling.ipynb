{
 "cells": [
  {
   "cell_type": "markdown",
   "metadata": {},
   "source": [
    "## Python Modules"
   ]
  },
  {
   "cell_type": "markdown",
   "metadata": {},
   "source": [
    "- resuablity of code\n",
    "- various ways to build the module\n",
    "- modules can be imported by another program\n",
    "- python has standard libray modules"
   ]
  },
  {
   "cell_type": "code",
   "execution_count": 1,
   "metadata": {},
   "outputs": [
    {
     "name": "stdout",
     "output_type": "stream",
     "text": [
      "120\n"
     ]
    }
   ],
   "source": [
    "#modules are bunch of functions in c++ it is like a header file\n",
    "#various ways to build modules easiest is .py there are also inbuilt functions\n",
    "#math modules support lot of functions like sin cos log\n",
    "#cmodules support function to handle the complex no\n",
    "import math\n",
    "print(math.factorial(5))"
   ]
  },
  {
   "cell_type": "markdown",
   "metadata": {},
   "source": [
    "## Math Module"
   ]
  },
  {
   "cell_type": "code",
   "execution_count": 3,
   "metadata": {},
   "outputs": [
    {
     "name": "stdout",
     "output_type": "stream",
     "text": [
      "120\n"
     ]
    }
   ],
   "source": [
    "# if u dont want to include complete maths folder but only one feature of maths module u can use in this way\n",
    "from math import factorial\n",
    "print(factorial(5))"
   ]
  },
  {
   "cell_type": "code",
   "execution_count": 6,
   "metadata": {},
   "outputs": [
    {
     "name": "stdout",
     "output_type": "stream",
     "text": [
      "720\n",
      "120\n"
     ]
    }
   ],
   "source": [
    "#renaming of a function\n",
    "from math import factorial as fact\n",
    "print(fact(6))\n",
    "print(factorial(5))"
   ]
  },
  {
   "cell_type": "code",
   "execution_count": 5,
   "metadata": {},
   "outputs": [
    {
     "name": "stdout",
     "output_type": "stream",
     "text": [
      "120\n"
     ]
    }
   ],
   "source": [
    "#but it will not give error with this previous name\n",
    "print(factorial(5))"
   ]
  },
  {
   "cell_type": "code",
   "execution_count": 15,
   "metadata": {},
   "outputs": [
    {
     "name": "stdout",
     "output_type": "stream",
     "text": [
      "7\n",
      "6\n",
      "1.0\n",
      "4.0\n",
      "3.141592653589793\n",
      "-inf\n",
      "24\n",
      "7\n",
      "2\n"
     ]
    }
   ],
   "source": [
    "print(math.floor(15/2))\n",
    "print(math.gcd(12,6))\n",
    "print(math.log(math.e))#by default base is e\n",
    "print(math.log(16,2))#here the no and base both are given (no,base)\n",
    "print(math.pi)\n",
    "print(-math.inf)\n",
    "print(sum([2,4,5,6,7]))\n",
    "print(max([2,4,5,6,7]))\n",
    "print(min([2,4,5,6,7]))"
   ]
  },
  {
   "cell_type": "markdown",
   "metadata": {},
   "source": [
    "## sis module\n",
    "sis module provides access to variable and functions related to system or python interpreter"
   ]
  },
  {
   "cell_type": "code",
   "execution_count": 16,
   "metadata": {},
   "outputs": [],
   "source": [
    "#provid inf regarding systeem like version and all that"
   ]
  },
  {
   "cell_type": "code",
   "execution_count": 1,
   "metadata": {},
   "outputs": [],
   "source": [
    "# def printdata():\n",
    "#     print(sys.argv)\n",
    "#so means we are getting only 1 parametere in the output\n",
    "#i will get the path which is my 0th argument i can give it more arguments to check the\n",
    "#argv[1] and argv[2] and many more all those are the argument  passed\n",
    "# printdata()\n",
    "\n",
    "##output:when u run on command prompt\n",
    "##[Python4_oops.py]\n",
    "\n",
    "##when me pass 2 more argument like 1 and hello then ouput will be a list\n",
    "##[Python4_oops.py,'1','hello']\n",
    "##argv[2] = 'hello'\n",
    "\n",
    "##if u want to add 2 no and want to take the input on command line form the user\n",
    "# def add():\n",
    "#     print(int(sys.argv[1]+sys.argv[2]))\n",
    "#\n",
    "# add()\n",
    "##output2\n",
    "##2345\n",
    "##print(int(sys.argv[1])+int(sys.argv[2])) for this ouput will be 68\n",
    "\n",
    "##in order to get the version of python u are using u can use this command\n",
    "##print(sys.version)\n",
    "## i will get the version which in my case is 3.8.2\n",
    "## this will show the path in which pyrhon will look up for the packages\n",
    "##interpreter will search for packages in these paths suppose if u install a new package\n",
    "##and if its adress is not listed in path then u may get trouble in executing that package\n",
    "##print(sys.path)\n",
    "##maxsize\n",
    "##what is the largest size that a datastruchture can store in python\n",
    "##print(sys.maxsize)\n",
    "##to read more of sys functionn u can go to the documentation"
   ]
  },
  {
   "cell_type": "markdown",
   "metadata": {},
   "source": [
    "### Importing one module one into another"
   ]
  },
  {
   "cell_type": "code",
   "execution_count": 2,
   "metadata": {},
   "outputs": [],
   "source": [
    "##you can also make ur own module of pyrhon code and than u can also import in some other file"
   ]
  },
  {
   "cell_type": "code",
   "execution_count": 14,
   "metadata": {},
   "outputs": [],
   "source": [
    "import hello"
   ]
  },
  {
   "cell_type": "code",
   "execution_count": 27,
   "metadata": {},
   "outputs": [
    {
     "name": "stdout",
     "output_type": "stream",
     "text": [
      "25\n"
     ]
    }
   ],
   "source": [
    "hello.say_hey(23)"
   ]
  },
  {
   "cell_type": "code",
   "execution_count": 2,
   "metadata": {},
   "outputs": [
    {
     "name": "stdout",
     "output_type": "stream",
     "text": [
      "6\n"
     ]
    }
   ],
   "source": [
    "from hello import say_hey\n",
    "say_hey(4)"
   ]
  },
  {
   "cell_type": "code",
   "execution_count": 3,
   "metadata": {},
   "outputs": [],
   "source": [
    "from hello import * \n",
    "##this will import all the functions from this file"
   ]
  },
  {
   "cell_type": "code",
   "execution_count": 4,
   "metadata": {},
   "outputs": [],
   "source": [
    "##now u can also call the that function directly"
   ]
  },
  {
   "cell_type": "code",
   "execution_count": 5,
   "metadata": {},
   "outputs": [
    {
     "name": "stdout",
     "output_type": "stream",
     "text": [
      "25\n"
     ]
    }
   ],
   "source": [
    "say_hey(23)"
   ]
  },
  {
   "cell_type": "markdown",
   "metadata": {},
   "source": [
    "### Python module name==__main__"
   ]
  },
  {
   "cell_type": "code",
   "execution_count": 6,
   "metadata": {},
   "outputs": [
    {
     "name": "stdout",
     "output_type": "stream",
     "text": [
      "m1 module %s __main__\n"
     ]
    }
   ],
   "source": [
    "##m1.py\n",
    "##playing with 2 modules together\n",
    "#print(\"m1 module %s\",(__name__))\n",
    "## when i run only single m1 module in command prompt then output is m1 module __main__\n",
    "\n",
    "##new concept\n",
    "if __name__ == '__main__':\n",
    "    #what to do when this module is imported directly\n",
    "    print(\"m1 module %s\",(__name__))\n",
    "else:\n",
    "    #what to do when this module is imported\n",
    "    print(\"i am in module 1 else block\")\n",
    "#thid will give output when i run m1 module\n",
    "#as  m1 module is %s __main__\n",
    "##when i run module m2\n",
    "##since here m1 is also imporeted so it will show\n",
    "## i am in module 1 else block for module 1 since it is imported in m2\n",
    "##m1 module is %s __main__ now since i have run m2 it will beocme main"
   ]
  },
  {
   "cell_type": "code",
   "execution_count": 7,
   "metadata": {},
   "outputs": [
    {
     "name": "stdout",
     "output_type": "stream",
     "text": [
      "i am in module 1 else block\n",
      "m2 module is %s __main__\n"
     ]
    }
   ],
   "source": [
    "##m2.py\n",
    "import m1\n",
    "\n",
    "##now when i run m2 module using m2.py then the result is again m2 module is %s main mean\n",
    "##main comes for module 2\n",
    "##and for module 1 now comes m1 module is %s m1\n",
    "##so this is useful\n",
    "##u can distinguish which file is running directly and which file is running as a part of the import\n",
    "\n",
    "print(\"m2 module is %s\",(__name__))"
   ]
  },
  {
   "cell_type": "markdown",
   "metadata": {},
   "source": [
    "### Python oops classes and objects"
   ]
  },
  {
   "cell_type": "code",
   "execution_count": 8,
   "metadata": {},
   "outputs": [],
   "source": [
    "##Till now we were doing the procedular oriented programming all the codes were in the form of blocks of code or blocks of functions\n",
    "#whereas oops allow us to make us classes and objexts "
   ]
  },
  {
   "cell_type": "code",
   "execution_count": 9,
   "metadata": {},
   "outputs": [
    {
     "name": "stdout",
     "output_type": "stream",
     "text": [
      "<__main__.person object at 0x05E7F538>\n"
     ]
    }
   ],
   "source": [
    "class person():\n",
    "    pass\n",
    "p = person()\n",
    "print(p)"
   ]
  },
  {
   "cell_type": "code",
   "execution_count": 10,
   "metadata": {},
   "outputs": [
    {
     "name": "stdout",
     "output_type": "stream",
     "text": [
      "<class '__main__.person'>\n"
     ]
    }
   ],
   "source": [
    "print(type(p))\n",
    "##is is the type of person"
   ]
  },
  {
   "cell_type": "code",
   "execution_count": 11,
   "metadata": {},
   "outputs": [
    {
     "name": "stdout",
     "output_type": "stream",
     "text": [
      "hello\n"
     ]
    }
   ],
   "source": [
    "##in class we ccan define data attributes in it and also the functions inside it \n",
    "#self is a keyword in python which refers to the object of that class\n",
    "class person():\n",
    "    \n",
    "    def sayhi(self):\n",
    "        print(\"hello\")\n",
    "p = person()\n",
    "p.sayhi()\n",
    "    "
   ]
  },
  {
   "cell_type": "code",
   "execution_count": 19,
   "metadata": {},
   "outputs": [
    {
     "name": "stdout",
     "output_type": "stream",
     "text": [
      "helloword\n",
      "my name is  prateek\n",
      "i am from mst\n",
      "i am indian\n"
     ]
    }
   ],
   "source": [
    "#init is constructor here which is used to inetialise the object\n",
    "#common for all objects of same class\n",
    "class person():\n",
    "    nationality = \"indian\"\n",
    "    def __init__(self,pname,clg):\n",
    "        #instance variables these are diffrent every instance of the class\n",
    "        self.name = pname\n",
    "        self.college = clg\n",
    "    def sayhi(self,name):\n",
    "        print(\"hello\"+name)\n",
    "    def introduce(self):\n",
    "        print(\"my name is \",self.name)\n",
    "        print(\"i am from\",self.college)\n",
    "        print(\"i am\",self.nationality)\n",
    "p = person(\"prateek\",\"mst\")\n",
    "p.sayhi(\"word\")\n",
    "p.introduce()\n",
    "    "
   ]
  },
  {
   "cell_type": "code",
   "execution_count": 30,
   "metadata": {},
   "outputs": [
    {
     "name": "stdout",
     "output_type": "stream",
     "text": [
      "german shepered\n",
      "['masti', 'jadu']\n",
      "goldman retrevier\n",
      "['masti', 'jadu']\n"
     ]
    }
   ],
   "source": [
    "class Dog():\n",
    "    color = \"brown\" ##brown for all the dogs\n",
    "    #common for all the datamembers of a class\n",
    "    activities = []\n",
    "    def __init__(self,bread):\n",
    "        self.bread = bread\n",
    "    def addActivity(self,act):\n",
    "        self.activities.append(act)\n",
    "    def doActivity(self):\n",
    "        print(self.bread)\n",
    "        print(self.activities)\n",
    "d = Dog(\"german shepered\")\n",
    "d2 = Dog(\"goldman retrevier\")\n",
    "\n",
    "d.addActivity(\"masti\")\n",
    "d2.addActivity(\"jadu\")\n",
    "\n",
    "\n",
    "\n",
    "\n",
    "d.doActivity()\n",
    "d2.doActivity()"
   ]
  },
  {
   "cell_type": "code",
   "execution_count": 33,
   "metadata": {},
   "outputs": [
    {
     "name": "stdout",
     "output_type": "stream",
     "text": [
      "german shepered\n",
      "['masti']\n",
      "goldman retrevier\n",
      "['jadu']\n"
     ]
    }
   ],
   "source": [
    "#correcting the last issue\n",
    "class Dog():\n",
    "    color = \"brown\" ##brown for all the dogs\n",
    "    #common for all the datamembers of a class\n",
    "    #activities = []\n",
    "    def __init__(self,bread):\n",
    "        self.bread = bread\n",
    "        self.activities = []\n",
    "    def addActivity(self,act):\n",
    "        self.activities.append(act)\n",
    "    def doActivity(self):\n",
    "        print(self.bread)\n",
    "        print(self.activities)\n",
    "d = Dog(\"german shepered\")\n",
    "d2 = Dog(\"goldman retrevier\")\n",
    "\n",
    "d.addActivity(\"masti\")\n",
    "d2.addActivity(\"jadu\")\n",
    "\n",
    "\n",
    "\n",
    "\n",
    "d.doActivity()\n",
    "d2.doActivity()"
   ]
  },
  {
   "cell_type": "markdown",
   "metadata": {},
   "source": [
    "### Public vs Private"
   ]
  },
  {
   "cell_type": "code",
   "execution_count": 34,
   "metadata": {},
   "outputs": [],
   "source": [
    "#by default all the methods are public but u can do explicitly private and than direct acess is not allowed u can call the public method of this calss to use that \n"
   ]
  },
  {
   "cell_type": "code",
   "execution_count": 9,
   "metadata": {},
   "outputs": [
    {
     "name": "stdout",
     "output_type": "stream",
     "text": [
      "doing secret activity  german shepered\n",
      "doing secret activity  goldman retrevier\n",
      "german shepered\n",
      "['masti']\n",
      "goldman retrevier\n",
      "['jadu']\n"
     ]
    }
   ],
   "source": [
    "class Dog():\n",
    "    color = \"brown\" ##brown for all the dogs\n",
    "    #common for all the datamembers of a class\n",
    "    #activities = []\n",
    "    def __init__(self,bread):\n",
    "        self.bread = bread\n",
    "        self.activities = []\n",
    "    def addActivity(self,act):\n",
    "        self.activities.append(act)\n",
    "    def secretActivity(self):\n",
    "        print(\"doing secret activity \",self.bread)\n",
    "    def doActivity(self):\n",
    "        print(self.bread)\n",
    "        print(self.activities)\n",
    "d = Dog(\"german shepered\")\n",
    "d2 = Dog(\"goldman retrevier\")\n",
    "\n",
    "d.addActivity(\"masti\")\n",
    "d2.addActivity(\"jadu\")\n",
    "\n",
    "d.secretActivity()\n",
    "d2.secretActivity()\n",
    "\n",
    "\n",
    "d.doActivity()\n",
    "d2.doActivity()"
   ]
  },
  {
   "cell_type": "code",
   "execution_count": 10,
   "metadata": {},
   "outputs": [],
   "source": [
    "##now the secretActivity function is public by default but in order to make this private u can use two underscore\n",
    "##like this __secretActivity then if after making this public u use this then it will lead to the error"
   ]
  },
  {
   "cell_type": "code",
   "execution_count": 11,
   "metadata": {},
   "outputs": [
    {
     "ename": "AttributeError",
     "evalue": "'Dog' object has no attribute 'secretActivity'",
     "output_type": "error",
     "traceback": [
      "\u001b[1;31m---------------------------------------------------------------------------\u001b[0m",
      "\u001b[1;31mAttributeError\u001b[0m                            Traceback (most recent call last)",
      "\u001b[1;32m<ipython-input-11-c4e3b53a26ba>\u001b[0m in \u001b[0;36m<module>\u001b[1;34m\u001b[0m\n\u001b[0;32m     19\u001b[0m \u001b[0md2\u001b[0m\u001b[1;33m.\u001b[0m\u001b[0maddActivity\u001b[0m\u001b[1;33m(\u001b[0m\u001b[1;34m\"jadu\"\u001b[0m\u001b[1;33m)\u001b[0m\u001b[1;33m\u001b[0m\u001b[1;33m\u001b[0m\u001b[0m\n\u001b[0;32m     20\u001b[0m \u001b[1;33m\u001b[0m\u001b[0m\n\u001b[1;32m---> 21\u001b[1;33m \u001b[0md\u001b[0m\u001b[1;33m.\u001b[0m\u001b[0msecretActivity\u001b[0m\u001b[1;33m(\u001b[0m\u001b[1;33m)\u001b[0m\u001b[1;33m\u001b[0m\u001b[1;33m\u001b[0m\u001b[0m\n\u001b[0m\u001b[0;32m     22\u001b[0m \u001b[0md2\u001b[0m\u001b[1;33m.\u001b[0m\u001b[0msecretActivity\u001b[0m\u001b[1;33m(\u001b[0m\u001b[1;33m)\u001b[0m\u001b[1;33m\u001b[0m\u001b[1;33m\u001b[0m\u001b[0m\n\u001b[0;32m     23\u001b[0m \u001b[1;33m\u001b[0m\u001b[0m\n",
      "\u001b[1;31mAttributeError\u001b[0m: 'Dog' object has no attribute 'secretActivity'"
     ]
    }
   ],
   "source": [
    "class Dog():\n",
    "    color = \"brown\" ##brown for all the dogs\n",
    "    #common for all the datamembers of a class\n",
    "    #activities = []\n",
    "    def __init__(self,bread):\n",
    "        self.bread = bread\n",
    "        self.activities = []\n",
    "    def addActivity(self,act):\n",
    "        self.activities.append(act)\n",
    "    def __secretActivity(self):\n",
    "        print(\"doing secret activity \",self.bread)\n",
    "    def doActivity(self):\n",
    "        print(self.bread)\n",
    "        print(self.activities)\n",
    "d = Dog(\"german shepered\")\n",
    "d2 = Dog(\"goldman retrevier\")\n",
    "\n",
    "d.addActivity(\"masti\")\n",
    "d2.addActivity(\"jadu\")\n",
    "\n",
    "d.secretActivity()\n",
    "d2.secretActivity()\n",
    "\n",
    "\n",
    "d.doActivity()\n",
    "d2.doActivity()"
   ]
  },
  {
   "cell_type": "code",
   "execution_count": 12,
   "metadata": {},
   "outputs": [],
   "source": [
    "##as u can see that u can not acess the private property"
   ]
  },
  {
   "cell_type": "code",
   "execution_count": 14,
   "metadata": {},
   "outputs": [
    {
     "ename": "AttributeError",
     "evalue": "'Dog' object has no attribute '__secretActivity'",
     "output_type": "error",
     "traceback": [
      "\u001b[1;31m---------------------------------------------------------------------------\u001b[0m",
      "\u001b[1;31mAttributeError\u001b[0m                            Traceback (most recent call last)",
      "\u001b[1;32m<ipython-input-14-513cf99405bc>\u001b[0m in \u001b[0;36m<module>\u001b[1;34m\u001b[0m\n\u001b[0;32m     19\u001b[0m \u001b[0md2\u001b[0m\u001b[1;33m.\u001b[0m\u001b[0maddActivity\u001b[0m\u001b[1;33m(\u001b[0m\u001b[1;34m\"jadu\"\u001b[0m\u001b[1;33m)\u001b[0m\u001b[1;33m\u001b[0m\u001b[1;33m\u001b[0m\u001b[0m\n\u001b[0;32m     20\u001b[0m \u001b[1;33m\u001b[0m\u001b[0m\n\u001b[1;32m---> 21\u001b[1;33m \u001b[0md\u001b[0m\u001b[1;33m.\u001b[0m\u001b[0m__secretActivity\u001b[0m\u001b[1;33m(\u001b[0m\u001b[1;33m)\u001b[0m\u001b[1;33m\u001b[0m\u001b[1;33m\u001b[0m\u001b[0m\n\u001b[0m\u001b[0;32m     22\u001b[0m \u001b[0md2\u001b[0m\u001b[1;33m.\u001b[0m\u001b[0m__secretActivity\u001b[0m\u001b[1;33m(\u001b[0m\u001b[1;33m)\u001b[0m\u001b[1;33m\u001b[0m\u001b[1;33m\u001b[0m\u001b[0m\n\u001b[0;32m     23\u001b[0m \u001b[1;33m\u001b[0m\u001b[0m\n",
      "\u001b[1;31mAttributeError\u001b[0m: 'Dog' object has no attribute '__secretActivity'"
     ]
    }
   ],
   "source": [
    "class Dog():\n",
    "    color = \"brown\" ##brown for all the dogs\n",
    "    #common for all the datamembers of a class\n",
    "    #activities = []\n",
    "    def __init__(self,bread):\n",
    "        self.bread = bread\n",
    "        self.activities = []\n",
    "    def addActivity(self,act):\n",
    "        self.activities.append(act)\n",
    "    def __secretActivity(self):\n",
    "        print(\"doing secret activity \",self.bread)\n",
    "    def doActivity(self):\n",
    "        print(self.bread)\n",
    "        print(self.activities)\n",
    "d = Dog(\"german shepered\")\n",
    "d2 = Dog(\"goldman retrevier\")\n",
    "\n",
    "d.addActivity(\"masti\")\n",
    "d2.addActivity(\"jadu\")\n",
    "\n",
    "d.__secretActivity()\n",
    "d2.__secretActivity()\n",
    "\n",
    "\n",
    "d.doActivity()\n",
    "d2.doActivity()"
   ]
  },
  {
   "cell_type": "code",
   "execution_count": 15,
   "metadata": {},
   "outputs": [],
   "source": [
    "##so it is not called even in this way but if i call it from a public function than it works"
   ]
  },
  {
   "cell_type": "code",
   "execution_count": 17,
   "metadata": {},
   "outputs": [
    {
     "name": "stdout",
     "output_type": "stream",
     "text": [
      "german shepered\n",
      "['masti']\n",
      "doing secret activity  german shepered\n",
      "goldman retrevier\n",
      "['jadu']\n",
      "doing secret activity  goldman retrevier\n"
     ]
    }
   ],
   "source": [
    "class Dog():\n",
    "    color = \"brown\" ##brown for all the dogs\n",
    "    #common for all the datamembers of a class\n",
    "    #activities = []\n",
    "    def __init__(self,bread):\n",
    "        #this method accepts the breed of the dog and inetialise it \n",
    "        self.bread = bread\n",
    "        self.activities = []\n",
    "    def addActivity(self,act):\n",
    "        self.activities.append(act)\n",
    "    def __secretActivity(self):\n",
    "        print(\"doing secret activity \",self.bread)\n",
    "    def doActivity(self):\n",
    "        print(self.bread)\n",
    "        print(self.activities)\n",
    "        self.__secretActivity()##this is imp concept\n",
    "d = Dog(\"german shepered\")\n",
    "d2 = Dog(\"goldman retrevier\")\n",
    "\n",
    "d.addActivity(\"masti\")\n",
    "d2.addActivity(\"jadu\")\n",
    "\n",
    "# d.__secretActivity()\n",
    "# d2.__secretActivity()\n",
    "\n",
    "\n",
    "d.doActivity()\n",
    "d2.doActivity()"
   ]
  },
  {
   "cell_type": "code",
   "execution_count": 19,
   "metadata": {},
   "outputs": [],
   "source": [
    "Dog?"
   ]
  },
  {
   "cell_type": "markdown",
   "metadata": {},
   "source": [
    "Init signature: Dog(bread)\n",
    "Docstring:      <no docstring>\n",
    "Type:           type\n",
    "Subclasses:     "
   ]
  },
  {
   "cell_type": "code",
   "execution_count": 22,
   "metadata": {},
   "outputs": [
    {
     "ename": "SyntaxError",
     "evalue": "EOL while scanning string literal (<ipython-input-22-2d214c5f6c61>, line 6)",
     "output_type": "error",
     "traceback": [
      "\u001b[1;36m  File \u001b[1;32m\"<ipython-input-22-2d214c5f6c61>\"\u001b[1;36m, line \u001b[1;32m6\u001b[0m\n\u001b[1;33m    \"\"\"this method accepts the breed of the dog and inetialise it\"\"\"\"\u001b[0m\n\u001b[1;37m                                                                     ^\u001b[0m\n\u001b[1;31mSyntaxError\u001b[0m\u001b[1;31m:\u001b[0m EOL while scanning string literal\n"
     ]
    }
   ],
   "source": [
    "class Dog():\n",
    "    color = \"brown\" ##brown for all the dogs\n",
    "    #common for all the datamembers of a class\n",
    "    #activities = []\n",
    "    def __init__(self,bread):\n",
    "        \"\"\"this method accepts the breed of the dog and inetialise it\"\"\"\"\n",
    "        self.bread = bread\n",
    "        self.activities = []\n",
    "    def addActivity(self,act):\n",
    "        self.activities.append(act)\n",
    "    def __secretActivity(self):\n",
    "        print(\"doing secret activity \",self.bread)\n",
    "    def doActivity(self):\n",
    "        \"\"\"this is a dog activity\"\"\"\"\n",
    "        print(self.bread)\n",
    "        print(self.activities)\n",
    "        self.__secretActivity()##this is imp concept\n",
    "d = Dog(\"german shepered\")\n",
    "d2 = Dog(\"goldman retrevier\")\n",
    "\n",
    "d.addActivity(\"masti\")\n",
    "d2.addActivity(\"jadu\")\n",
    "\n",
    "# d.__secretActivity()\n",
    "# d2.__secretActivity()\n",
    "\n",
    "\n",
    "d.doActivity()\n",
    "d2.doActivity()"
   ]
  },
  {
   "cell_type": "code",
   "execution_count": 23,
   "metadata": {},
   "outputs": [],
   "source": [
    "d2.doActivity?"
   ]
  },
  {
   "cell_type": "markdown",
   "metadata": {},
   "source": [
    "Signature: d2.doActivity()\n",
    "Docstring: <no docstring>\n",
    "File:      c:\\users\\apoorv\\desktop\\ds\\<ipython-input-17-ba956e48b654>\n",
    "Type:      method"
   ]
  },
  {
   "cell_type": "markdown",
   "metadata": {},
   "source": [
    "### Inhertiance of python"
   ]
  },
  {
   "cell_type": "code",
   "execution_count": 26,
   "metadata": {},
   "outputs": [],
   "source": [
    "##derive the classes from the base class and we also inherit the properties which avoid the use less repetiton"
   ]
  },
  {
   "cell_type": "code",
   "execution_count": 37,
   "metadata": {},
   "outputs": [
    {
     "name": "stdout",
     "output_type": "stream",
     "text": [
      "init for the school member namika\n",
      "Init teacher : namika\n",
      "Name : namika Age : 25\n",
      "salary345\n"
     ]
    }
   ],
   "source": [
    "class schoolMember():\n",
    "    def __init__(self,name,age):\n",
    "        self.name = name\n",
    "        self.age = age\n",
    "        print(\"init for the school member %s\"%self.name)\n",
    "    def introduce(self):\n",
    "        print(\"Name : %s Age : %d\"%(self.name,self.age))\n",
    "        \n",
    "#class Teacher(__Base_class__):\n",
    "class Teacher(schoolMember):\n",
    "    def __init__(self,name,age,salary):\n",
    "        #now u need to copy paste the school member init class\n",
    "        schoolMember.__init__(self,name,age)\n",
    "        self.salary = salary\n",
    "        print(\"Init teacher : %s\"%(self.name))\n",
    "        \n",
    "    def introduce(self):\n",
    "        schoolMember.introduce(self)\n",
    "        print(\"salary%d\"%(self.salary))\n",
    "        \n",
    "t = Teacher(\"namika\",25,345)  \n",
    "t.introduce()"
   ]
  },
  {
   "cell_type": "code",
   "execution_count": 40,
   "metadata": {},
   "outputs": [
    {
     "ename": "TypeError",
     "evalue": "__init__() missing 1 required positional argument: 'age'",
     "output_type": "error",
     "traceback": [
      "\u001b[1;31m---------------------------------------------------------------------------\u001b[0m",
      "\u001b[1;31mTypeError\u001b[0m                                 Traceback (most recent call last)",
      "\u001b[1;32m<ipython-input-40-821174b904eb>\u001b[0m in \u001b[0;36m<module>\u001b[1;34m\u001b[0m\n\u001b[0;32m      8\u001b[0m         \u001b[0mschoolMember\u001b[0m\u001b[1;33m.\u001b[0m\u001b[0mintroduce\u001b[0m\u001b[1;33m(\u001b[0m\u001b[0mself\u001b[0m\u001b[1;33m)\u001b[0m\u001b[1;33m\u001b[0m\u001b[1;33m\u001b[0m\u001b[0m\n\u001b[0;32m      9\u001b[0m         \u001b[0mprint\u001b[0m\u001b[1;33m(\u001b[0m\u001b[1;34m\"salary%d\"\u001b[0m\u001b[1;33m%\u001b[0m\u001b[1;33m(\u001b[0m\u001b[0mself\u001b[0m\u001b[1;33m.\u001b[0m\u001b[0mmarks\u001b[0m\u001b[1;33m)\u001b[0m\u001b[1;33m)\u001b[0m\u001b[1;33m\u001b[0m\u001b[1;33m\u001b[0m\u001b[0m\n\u001b[1;32m---> 10\u001b[1;33m \u001b[0ms\u001b[0m \u001b[1;33m=\u001b[0m  \u001b[0mstudent\u001b[0m\u001b[1;33m(\u001b[0m\u001b[1;34m\"mani\"\u001b[0m\u001b[1;33m,\u001b[0m\u001b[1;36m21\u001b[0m\u001b[1;33m,\u001b[0m\u001b[1;36m34\u001b[0m\u001b[1;33m)\u001b[0m\u001b[1;33m\u001b[0m\u001b[1;33m\u001b[0m\u001b[0m\n\u001b[0m\u001b[0;32m     11\u001b[0m \u001b[1;33m\u001b[0m\u001b[0m\n\u001b[0;32m     12\u001b[0m \u001b[1;33m\u001b[0m\u001b[0m\n",
      "\u001b[1;32m<ipython-input-40-821174b904eb>\u001b[0m in \u001b[0;36m__init__\u001b[1;34m(self, name, age, marks)\u001b[0m\n\u001b[0;32m      2\u001b[0m \u001b[1;33m\u001b[0m\u001b[0m\n\u001b[0;32m      3\u001b[0m     \u001b[1;32mdef\u001b[0m \u001b[0m__init__\u001b[0m\u001b[1;33m(\u001b[0m\u001b[0mself\u001b[0m\u001b[1;33m,\u001b[0m\u001b[0mname\u001b[0m\u001b[1;33m,\u001b[0m\u001b[0mage\u001b[0m\u001b[1;33m,\u001b[0m\u001b[0mmarks\u001b[0m\u001b[1;33m)\u001b[0m\u001b[1;33m:\u001b[0m\u001b[1;33m\u001b[0m\u001b[1;33m\u001b[0m\u001b[0m\n\u001b[1;32m----> 4\u001b[1;33m         \u001b[0mschoolMember\u001b[0m\u001b[1;33m(\u001b[0m\u001b[0mself\u001b[0m\u001b[1;33m)\u001b[0m\u001b[1;33m\u001b[0m\u001b[1;33m\u001b[0m\u001b[0m\n\u001b[0m\u001b[0;32m      5\u001b[0m         \u001b[0mself\u001b[0m\u001b[1;33m.\u001b[0m\u001b[0mmarks\u001b[0m \u001b[1;33m=\u001b[0m \u001b[0mmarks\u001b[0m\u001b[1;33m\u001b[0m\u001b[1;33m\u001b[0m\u001b[0m\n\u001b[0;32m      6\u001b[0m         \u001b[0mprint\u001b[0m\u001b[1;33m(\u001b[0m\u001b[1;34m\"init student %s\"\u001b[0m\u001b[1;33m%\u001b[0m\u001b[1;33m(\u001b[0m\u001b[0mself\u001b[0m\u001b[1;33m.\u001b[0m\u001b[0mmarks\u001b[0m\u001b[1;33m)\u001b[0m\u001b[1;33m)\u001b[0m\u001b[1;33m\u001b[0m\u001b[1;33m\u001b[0m\u001b[0m\n",
      "\u001b[1;31mTypeError\u001b[0m: __init__() missing 1 required positional argument: 'age'"
     ]
    }
   ],
   "source": [
    "class student(schoolMember):\n",
    "   \n",
    "    def __init__(self,name,age,marks):\n",
    "        schoolMember(self)\n",
    "        self.marks = marks\n",
    "        print(\"init student %s\"%(self.marks))\n",
    "    def introduce(self):\n",
    "        schoolMember.introduce(self)\n",
    "        print(\"salary%d\"%(self.marks))\n",
    "s =  student(\"mani\",21,34)\n",
    "        \n",
    "        "
   ]
  },
  {
   "cell_type": "markdown",
   "metadata": {},
   "source": [
    "## File handling"
   ]
  },
  {
   "cell_type": "markdown",
   "metadata": {},
   "source": [
    "### opening a file\n"
   ]
  },
  {
   "cell_type": "code",
   "execution_count": 18,
   "metadata": {},
   "outputs": [],
   "source": [
    "file = open(\"hello.txt\" , \"r\")"
   ]
  },
  {
   "cell_type": "code",
   "execution_count": 15,
   "metadata": {},
   "outputs": [
    {
     "data": {
      "text/plain": [
       "'hello word! '"
      ]
     },
     "execution_count": 15,
     "metadata": {},
     "output_type": "execute_result"
    }
   ],
   "source": [
    "file.read()\n",
    "## i have opened this in a read mode so i can easily go and read my file content"
   ]
  },
  {
   "cell_type": "code",
   "execution_count": 16,
   "metadata": {},
   "outputs": [],
   "source": [
    "file.close()"
   ]
  },
  {
   "cell_type": "code",
   "execution_count": 17,
   "metadata": {},
   "outputs": [],
   "source": [
    "##closing a file is very important otherwise it may get corrupted once u are done with reading so always close the file \n",
    "#in read we can also provide the no of bytes is should read"
   ]
  },
  {
   "cell_type": "code",
   "execution_count": 19,
   "metadata": {},
   "outputs": [
    {
     "data": {
      "text/plain": [
       "'hell'"
      ]
     },
     "execution_count": 19,
     "metadata": {},
     "output_type": "execute_result"
    }
   ],
   "source": [
    "file.read(4)"
   ]
  },
  {
   "cell_type": "code",
   "execution_count": 20,
   "metadata": {},
   "outputs": [],
   "source": [
    "##as u can see it is reading only 4 bytes\n",
    "file.close()"
   ]
  },
  {
   "cell_type": "markdown",
   "metadata": {},
   "source": [
    "### writting to a file"
   ]
  },
  {
   "cell_type": "code",
   "execution_count": 22,
   "metadata": {},
   "outputs": [],
   "source": [
    "##file.write return us a no of bytes that has been written to the file\n",
    "file = open(\"something.txt\",\"w\")\n",
    "#so in the write mode if u try to open a file which does not exist like in this case it will automatically then \n",
    "#create a empty file for u and if u open a file which already exist than it will erase all the data and u will be\n",
    "##allowed to make the changes form the scratch and same does not happen in write mode if there u dont give the coreect \n",
    "##path than it will show u error"
   ]
  },
  {
   "cell_type": "code",
   "execution_count": 23,
   "metadata": {},
   "outputs": [
    {
     "data": {
      "text/plain": [
       "20"
      ]
     },
     "execution_count": 23,
     "metadata": {},
     "output_type": "execute_result"
    }
   ],
   "source": [
    "file.write(\"hey apoorv this side\")"
   ]
  },
  {
   "cell_type": "code",
   "execution_count": 25,
   "metadata": {},
   "outputs": [],
   "source": [
    "file.close()\n",
    "##so if u dont close the file than nothing will bw shown in the something.txt file when u see it but aftrt using it \n",
    "##file.close() it will be shown to u hey apoorv this side in the folder"
   ]
  },
  {
   "cell_type": "code",
   "execution_count": 49,
   "metadata": {},
   "outputs": [],
   "source": [
    "##reading line wise\n",
    "file = open(\"hello.txt\" , \"r\")"
   ]
  },
  {
   "cell_type": "code",
   "execution_count": 52,
   "metadata": {},
   "outputs": [
    {
     "data": {
      "text/plain": [
       "'is 2nd line in this hello\\n'"
      ]
     },
     "execution_count": 52,
     "metadata": {},
     "output_type": "execute_result"
    }
   ],
   "source": [
    "file.readline()"
   ]
  },
  {
   "cell_type": "code",
   "execution_count": 53,
   "metadata": {},
   "outputs": [
    {
     "data": {
      "text/plain": [
       "['this is 3nd line in this hello\\n',\n",
       " 'this is 4nd line in this hello\\n',\n",
       " 'this is 5nd line in this hello\\n',\n",
       " 'this is 6nd line in this hello']"
      ]
     },
     "execution_count": 53,
     "metadata": {},
     "output_type": "execute_result"
    }
   ],
   "source": [
    "file.readlines()\n",
    "##this will read line by line and will create the list of all the line inthe file"
   ]
  },
  {
   "cell_type": "code",
   "execution_count": 54,
   "metadata": {},
   "outputs": [],
   "source": [
    "##so here it will read line by line"
   ]
  },
  {
   "cell_type": "code",
   "execution_count": 55,
   "metadata": {},
   "outputs": [],
   "source": [
    "file.close()"
   ]
  },
  {
   "cell_type": "code",
   "execution_count": 56,
   "metadata": {},
   "outputs": [],
   "source": [
    "## seek the coursor"
   ]
  },
  {
   "cell_type": "code",
   "execution_count": 57,
   "metadata": {},
   "outputs": [],
   "source": [
    "file = open(\"hello.txt\" , \"r\")"
   ]
  },
  {
   "cell_type": "code",
   "execution_count": 58,
   "metadata": {},
   "outputs": [
    {
     "data": {
      "text/plain": [
       "'hello'"
      ]
     },
     "execution_count": 58,
     "metadata": {},
     "output_type": "execute_result"
    }
   ],
   "source": [
    "file.read(5)## i am reading first five bytes when i exectute this command next i will be missing this first 5 bytes"
   ]
  },
  {
   "cell_type": "code",
   "execution_count": 59,
   "metadata": {},
   "outputs": [
    {
     "data": {
      "text/plain": [
       "' word! \\nthis is 2nd line in this hello\\nthis is 3nd line in this hello\\nthis is 4nd line in this hello\\nthis is 5nd line in this hello\\nthis is 6nd line in this hello'"
      ]
     },
     "execution_count": 59,
     "metadata": {},
     "output_type": "execute_result"
    }
   ],
   "source": [
    "file.read()"
   ]
  },
  {
   "cell_type": "code",
   "execution_count": 60,
   "metadata": {},
   "outputs": [],
   "source": [
    "file.close()"
   ]
  },
  {
   "cell_type": "code",
   "execution_count": 61,
   "metadata": {},
   "outputs": [],
   "source": [
    "file = open(\"hello.txt\" , \"r\")"
   ]
  },
  {
   "cell_type": "code",
   "execution_count": 62,
   "metadata": {},
   "outputs": [
    {
     "data": {
      "text/plain": [
       "'hel'"
      ]
     },
     "execution_count": 62,
     "metadata": {},
     "output_type": "execute_result"
    }
   ],
   "source": [
    "file.read(3)"
   ]
  },
  {
   "cell_type": "code",
   "execution_count": 63,
   "metadata": {},
   "outputs": [
    {
     "data": {
      "text/plain": [
       "'lo wo'"
      ]
     },
     "execution_count": 63,
     "metadata": {},
     "output_type": "execute_result"
    }
   ],
   "source": [
    "file.read(5)"
   ]
  },
  {
   "cell_type": "code",
   "execution_count": 69,
   "metadata": {},
   "outputs": [],
   "source": [
    "file.close()"
   ]
  },
  {
   "cell_type": "code",
   "execution_count": 72,
   "metadata": {},
   "outputs": [],
   "source": [
    "##when python opens the file than coursor is by default at the oth position when i read the first 5 bytes then cursour moves to 6th \n",
    "##byte so if now i try to print again than cursour will try to print from the ther and if i want to go back again to the o position\n",
    "##or that cursour i can use file.seek(0) similary i can seek my cursour any where in the file using this file.seek(position)\n",
    "##vesse this is not a good way to opwn a file bcoz we always need to close this file better way in this \n",
    "\n",
    "##with statement is a contextual programinng way of opening a file in pyton  resultant of this opening file will be \n",
    "##stored in a file as an object only inside this u can read the file if i try to read this block it will give me erroe\n",
    "##when u come outside this block it will automatically close ur file"
   ]
  },
  {
   "cell_type": "code",
   "execution_count": 73,
   "metadata": {},
   "outputs": [
    {
     "name": "stdout",
     "output_type": "stream",
     "text": [
      "hello word! \n",
      "this is 2nd line in this hello\n",
      "this is 3nd line in this hello\n",
      "this is 4nd line in this hello\n",
      "this is 5nd line in this hello\n",
      "this is 6nd line in this hello\n",
      "5\n",
      " word! \n",
      "this is 2nd line in this hello\n",
      "this is 3nd line in this hello\n",
      "this is 4nd line in this hello\n",
      "this is 5nd line in this hello\n",
      "this is 6nd line in this hello\n"
     ]
    }
   ],
   "source": [
    "with open(\"hello.txt\",\"r\") as file:\n",
    "    print(file.read())\n",
    "    print(file.seek(5))\n",
    "    print(file.read())\n",
    "    "
   ]
  },
  {
   "cell_type": "markdown",
   "metadata": {},
   "source": [
    "### json javascript script object notation\n",
    "data returned from the server is in the form of server it is commom format that is being used throughout the web to use \n",
    "handling the requert and response "
   ]
  },
  {
   "cell_type": "code",
   "execution_count": 83,
   "metadata": {},
   "outputs": [
    {
     "name": "stdout",
     "output_type": "stream",
     "text": [
      "{\n",
      "  \"name\" : \"jatin\",\n",
      "   \"marks\" : 45,\n",
      "   \"subjects\":[\"eng\",\"math\"]\n",
      "}\n"
     ]
    }
   ],
   "source": [
    "with open(\"data.json\",\"r\") as file:\n",
    "    #print(type(file.read()))\n",
    "    print(file.read())"
   ]
  },
  {
   "cell_type": "code",
   "execution_count": 85,
   "metadata": {},
   "outputs": [
    {
     "name": "stdout",
     "output_type": "stream",
     "text": [
      "<class 'str'>\n",
      "\n"
     ]
    }
   ],
   "source": [
    "with open(\"data.json\",\"r\") as file:\n",
    "    print(type(file.read()))\n",
    "    print(file.read())"
   ]
  },
  {
   "cell_type": "code",
   "execution_count": 76,
   "metadata": {},
   "outputs": [],
   "source": [
    "## i want to parss this data i want to understand this data in the form of dictionary bcoz like dictionary i can not acces the keys\n",
    "#it will give me the error"
   ]
  },
  {
   "cell_type": "code",
   "execution_count": 77,
   "metadata": {},
   "outputs": [
    {
     "ename": "TypeError",
     "evalue": "string indices must be integers",
     "output_type": "error",
     "traceback": [
      "\u001b[1;31m---------------------------------------------------------------------------\u001b[0m",
      "\u001b[1;31mTypeError\u001b[0m                                 Traceback (most recent call last)",
      "\u001b[1;32m<ipython-input-77-2f3e24ea7664>\u001b[0m in \u001b[0;36m<module>\u001b[1;34m\u001b[0m\n\u001b[0;32m      1\u001b[0m \u001b[1;32mwith\u001b[0m \u001b[0mopen\u001b[0m\u001b[1;33m(\u001b[0m\u001b[1;34m\"data.json\"\u001b[0m\u001b[1;33m,\u001b[0m\u001b[1;34m\"r\"\u001b[0m\u001b[1;33m)\u001b[0m \u001b[1;32mas\u001b[0m \u001b[0mfile\u001b[0m\u001b[1;33m:\u001b[0m\u001b[1;33m\u001b[0m\u001b[1;33m\u001b[0m\u001b[0m\n\u001b[1;32m----> 2\u001b[1;33m     \u001b[0mprint\u001b[0m\u001b[1;33m(\u001b[0m\u001b[0mfile\u001b[0m\u001b[1;33m.\u001b[0m\u001b[0mread\u001b[0m\u001b[1;33m(\u001b[0m\u001b[1;33m)\u001b[0m\u001b[1;33m[\u001b[0m\u001b[1;34m\"read\"\u001b[0m\u001b[1;33m]\u001b[0m\u001b[1;33m)\u001b[0m\u001b[1;33m\u001b[0m\u001b[1;33m\u001b[0m\u001b[0m\n\u001b[0m",
      "\u001b[1;31mTypeError\u001b[0m: string indices must be integers"
     ]
    }
   ],
   "source": [
    "with open(\"data.json\",\"r\") as file:\n",
    "    print(file.read()[\"read\"])"
   ]
  },
  {
   "cell_type": "code",
   "execution_count": 92,
   "metadata": {},
   "outputs": [],
   "source": [
    "import json\n",
    "#json has four methods on which we can work"
   ]
  },
  {
   "cell_type": "code",
   "execution_count": 80,
   "metadata": {},
   "outputs": [
    {
     "name": "stdout",
     "output_type": "stream",
     "text": [
      "{'name': 'jatin', 'marks': 45, 'subjects': ['eng', 'math']}\n",
      "<class 'dict'>\n"
     ]
    }
   ],
   "source": [
    "##1 load\n",
    "with open(\"data.json\",\"r\") as file:\n",
    "    d = json.load(file)##it will try to load a file and will read in the form of dictionary earlier it was of str type\n",
    "    print(d)\n",
    "    print(type(d))"
   ]
  },
  {
   "cell_type": "code",
   "execution_count": 87,
   "metadata": {},
   "outputs": [],
   "source": [
    "##now since this is dictionary we can do something like this for we can perform the dictionary operations"
   ]
  },
  {
   "cell_type": "code",
   "execution_count": 89,
   "metadata": {},
   "outputs": [
    {
     "name": "stdout",
     "output_type": "stream",
     "text": [
      "jatin\n",
      "eng\n"
     ]
    }
   ],
   "source": [
    "with open(\"data.json\",\"r\") as file:\n",
    "    d = json.load(file)##it will try to load a file and will read in the form of dictionary earlier it was of str type\n",
    "    print(d[\"name\"])\n",
    "    print(d[\"subjects\"][0])\n"
   ]
  },
  {
   "cell_type": "code",
   "execution_count": 95,
   "metadata": {},
   "outputs": [
    {
     "name": "stdout",
     "output_type": "stream",
     "text": [
      "{\n",
      "  \"name\" : \"jatin\",\n",
      "   \"marks\" : 45,\n",
      "   \"subjects\":[\"eng\",\"math\"]\n",
      "}\n",
      "{'name': 'jatin', 'marks': 45, 'subjects': ['eng', 'math']}\n"
     ]
    }
   ],
   "source": [
    "with open(\"data.json\",\"r\") as file:\n",
    "    data = file.read()\n",
    "    print(data)\n",
    "    d = json.loads(data)#we will sue loads s repressent the stirng in this case\n",
    "    print(d)\n",
    "##so this is how we can deserialise or decode the data pressent in json file"
   ]
  },
  {
   "cell_type": "code",
   "execution_count": 96,
   "metadata": {},
   "outputs": [],
   "source": [
    "##how to convert a dictinioary into json file or json into dictnioary"
   ]
  },
  {
   "cell_type": "code",
   "execution_count": 97,
   "metadata": {},
   "outputs": [
    {
     "data": {
      "text/plain": [
       "'jatin'"
      ]
     },
     "execution_count": 97,
     "metadata": {},
     "output_type": "execute_result"
    }
   ],
   "source": [
    "d = {'name': 'jatin', 'marks': 45, 'subjects': ['eng', 'math']}\n",
    "d[\"name\"]"
   ]
  },
  {
   "cell_type": "code",
   "execution_count": 98,
   "metadata": {},
   "outputs": [
    {
     "name": "stdout",
     "output_type": "stream",
     "text": [
      "<class 'str'>\n"
     ]
    }
   ],
   "source": [
    "string = json.dumps(d) # s repressent string dumping means converting a dict into json form\n",
    "print(type(string))"
   ]
  },
  {
   "cell_type": "code",
   "execution_count": 99,
   "metadata": {},
   "outputs": [],
   "source": [
    "with open(\"data2.json\" , \"w\") as file:\n",
    "    json.dump(d,file)\n",
    "    "
   ]
  },
  {
   "cell_type": "code",
   "execution_count": 100,
   "metadata": {},
   "outputs": [],
   "source": [
    "##exception handling are the erros which come while the code execution"
   ]
  },
  {
   "cell_type": "code",
   "execution_count": 101,
   "metadata": {},
   "outputs": [
    {
     "name": "stdout",
     "output_type": "stream",
     "text": [
      "something went wrong\n"
     ]
    }
   ],
   "source": [
    "try:\n",
    "    file = open(\"balleballe.txt\",'r')\n",
    "except:\n",
    "    print(\"something went wrong\")"
   ]
  },
  {
   "cell_type": "code",
   "execution_count": 102,
   "metadata": {},
   "outputs": [
    {
     "name": "stdout",
     "output_type": "stream",
     "text": [
      "something went wrong\n",
      "<class 'Exception'>\n"
     ]
    }
   ],
   "source": [
    "try:\n",
    "    file = open(\"balleballe.txt\",'r')\n",
    "except Exception:\n",
    "    print(\"something went wrong\")\n",
    "    print(Exception)"
   ]
  },
  {
   "cell_type": "code",
   "execution_count": 103,
   "metadata": {},
   "outputs": [
    {
     "ename": "NameError",
     "evalue": "name 'FileNotFound' is not defined",
     "output_type": "error",
     "traceback": [
      "\u001b[1;31m---------------------------------------------------------------------------\u001b[0m",
      "\u001b[1;31mFileNotFoundError\u001b[0m                         Traceback (most recent call last)",
      "\u001b[1;32m<ipython-input-103-0c59c26fc308>\u001b[0m in \u001b[0;36m<module>\u001b[1;34m\u001b[0m\n\u001b[0;32m      1\u001b[0m \u001b[1;32mtry\u001b[0m\u001b[1;33m:\u001b[0m\u001b[1;33m\u001b[0m\u001b[1;33m\u001b[0m\u001b[0m\n\u001b[1;32m----> 2\u001b[1;33m     \u001b[0mfile\u001b[0m \u001b[1;33m=\u001b[0m \u001b[0mopen\u001b[0m\u001b[1;33m(\u001b[0m\u001b[1;34m\"balleballe.txt\"\u001b[0m\u001b[1;33m,\u001b[0m\u001b[1;34m'r'\u001b[0m\u001b[1;33m)\u001b[0m\u001b[1;33m\u001b[0m\u001b[1;33m\u001b[0m\u001b[0m\n\u001b[0m\u001b[0;32m      3\u001b[0m \u001b[1;32mexcept\u001b[0m \u001b[0mFileNotFound\u001b[0m\u001b[1;33m:\u001b[0m\u001b[1;33m\u001b[0m\u001b[1;33m\u001b[0m\u001b[0m\n",
      "\u001b[1;31mFileNotFoundError\u001b[0m: [Errno 2] No such file or directory: 'balleballe.txt'",
      "\nDuring handling of the above exception, another exception occurred:\n",
      "\u001b[1;31mNameError\u001b[0m                                 Traceback (most recent call last)",
      "\u001b[1;32m<ipython-input-103-0c59c26fc308>\u001b[0m in \u001b[0;36m<module>\u001b[1;34m\u001b[0m\n\u001b[0;32m      1\u001b[0m \u001b[1;32mtry\u001b[0m\u001b[1;33m:\u001b[0m\u001b[1;33m\u001b[0m\u001b[1;33m\u001b[0m\u001b[0m\n\u001b[0;32m      2\u001b[0m     \u001b[0mfile\u001b[0m \u001b[1;33m=\u001b[0m \u001b[0mopen\u001b[0m\u001b[1;33m(\u001b[0m\u001b[1;34m\"balleballe.txt\"\u001b[0m\u001b[1;33m,\u001b[0m\u001b[1;34m'r'\u001b[0m\u001b[1;33m)\u001b[0m\u001b[1;33m\u001b[0m\u001b[1;33m\u001b[0m\u001b[0m\n\u001b[1;32m----> 3\u001b[1;33m \u001b[1;32mexcept\u001b[0m \u001b[0mFileNotFound\u001b[0m\u001b[1;33m:\u001b[0m\u001b[1;33m\u001b[0m\u001b[1;33m\u001b[0m\u001b[0m\n\u001b[0m\u001b[0;32m      4\u001b[0m     \u001b[0mprint\u001b[0m\u001b[1;33m(\u001b[0m\u001b[1;34m\"file not found please reupload the error\"\u001b[0m\u001b[1;33m)\u001b[0m\u001b[1;33m\u001b[0m\u001b[1;33m\u001b[0m\u001b[0m\n\u001b[0;32m      5\u001b[0m \u001b[1;32mexcept\u001b[0m \u001b[0mException\u001b[0m\u001b[1;33m:\u001b[0m\u001b[1;33m\u001b[0m\u001b[1;33m\u001b[0m\u001b[0m\n",
      "\u001b[1;31mNameError\u001b[0m: name 'FileNotFound' is not defined"
     ]
    }
   ],
   "source": [
    "try:\n",
    "    file = open(\"balleballe.txt\",'r')\n",
    "except FileNotFound:\n",
    "    print(\"file not found please reupload the error\")\n",
    "except Exception:\n",
    "    print(\"something went wrong\")\n",
    "    print(Exception)"
   ]
  },
  {
   "cell_type": "code",
   "execution_count": 104,
   "metadata": {},
   "outputs": [
    {
     "name": "stdout",
     "output_type": "stream",
     "text": [
      "file not found please reupload the error\n"
     ]
    }
   ],
   "source": [
    "try:\n",
    "    file = open(\"balleballe.txt\",'r')\n",
    "except FileNotFoundError:\n",
    "    print(\"file not found please reupload the error\")\n",
    "except Exception:\n",
    "    print(\"something went wrong\")\n",
    "    print(Exception)"
   ]
  },
  {
   "cell_type": "code",
   "execution_count": 105,
   "metadata": {},
   "outputs": [
    {
     "name": "stdout",
     "output_type": "stream",
     "text": [
      "something went wrong\n",
      "<class 'Exception'>\n"
     ]
    }
   ],
   "source": [
    "try:\n",
    "    a = 10/0\n",
    "    file = open(\"balleballe.txt\",'r')\n",
    "except FileNotFoundError:\n",
    "    print(\"file not found please reupload the error\")\n",
    "except Exception:\n",
    "    print(\"something went wrong\")\n",
    "    print(Exception)"
   ]
  },
  {
   "cell_type": "code",
   "execution_count": 107,
   "metadata": {},
   "outputs": [
    {
     "name": "stdout",
     "output_type": "stream",
     "text": [
      "something went wrong\n",
      "<class 'Exception'>\n"
     ]
    }
   ],
   "source": [
    "try:\n",
    "    a = b\n",
    "    file = open(\"balleballe.txt\",'r')\n",
    "except FileNotFoundError:\n",
    "    print(\"file not found please reupload the error\")\n",
    "except Exception:\n",
    "    print(\"something went wrong\")\n",
    "    print(Exception)"
   ]
  },
  {
   "cell_type": "code",
   "execution_count": 108,
   "metadata": {},
   "outputs": [
    {
     "name": "stdout",
     "output_type": "stream",
     "text": [
      "variable not inetialised\n"
     ]
    }
   ],
   "source": [
    "try:\n",
    "    a = b\n",
    "    file = open(\"balleballe.txt\",'r')\n",
    "except FileNotFoundError:\n",
    "    print(\"file not found please reupload the error\")\n",
    "except NameError:\n",
    "    print(\"variable not inetialised\")\n",
    "except Exception:\n",
    "    print(\"something went wrong\")\n",
    "    print(Exception)"
   ]
  },
  {
   "cell_type": "code",
   "execution_count": 113,
   "metadata": {},
   "outputs": [
    {
     "name": "stdout",
     "output_type": "stream",
     "text": [
      "enter namapoorv\n",
      "now if evrything goes fine than else block will get executed\n"
     ]
    }
   ],
   "source": [
    "try:\n",
    "    a = input(\"enter nam\")\n",
    "except FileNotFoundError:\n",
    "    print(\"file not found please reupload the error\")\n",
    "except NameError:\n",
    "    print(\"variable not inetialised\")\n",
    "except Exception:\n",
    "    print(\"something went wrong\")\n",
    "    print(Exception)\n",
    "else:\n",
    "    print(\"now if evrything goes fine than else block will get executed\")\n",
    "#try executed without any error"
   ]
  },
  {
   "cell_type": "code",
   "execution_count": 114,
   "metadata": {},
   "outputs": [
    {
     "name": "stdout",
     "output_type": "stream",
     "text": [
      "enter namas\n",
      "something went wrong\n",
      "<class 'Exception'>\n"
     ]
    }
   ],
   "source": [
    "try:\n",
    "    a = input(\"enter nam\")\n",
    "    if(len(a)<3):\n",
    "        raise Exception\n",
    "except FileNotFoundError:\n",
    "    print(\"file not found please reupload the error\")\n",
    "except NameError:\n",
    "    print(\"variable not inetialised\")\n",
    "except Exception:\n",
    "    print(\"something went wrong\")\n",
    "    print(Exception)\n",
    "else:\n",
    "    print(\"now if evrything goes fine than else block will get executed\")\n",
    "#try executed without any error"
   ]
  },
  {
   "cell_type": "code",
   "execution_count": 115,
   "metadata": {},
   "outputs": [
    {
     "name": "stdout",
     "output_type": "stream",
     "text": [
      "enter namas\n",
      "something went wrong\n",
      "<class 'Exception'>\n",
      "it is always executed wether a program is runned or not\n"
     ]
    }
   ],
   "source": [
    "try:\n",
    "    a = input(\"enter nam\")\n",
    "    if(len(a)<3):\n",
    "        raise Exception\n",
    "except FileNotFoundError:\n",
    "    print(\"file not found please reupload the error\")\n",
    "except NameError:\n",
    "    print(\"variable not inetialised\")\n",
    "except Exception:\n",
    "    print(\"something went wrong\")\n",
    "    print(Exception)\n",
    "else:\n",
    "    print(\"now if evrything goes fine than else block will get executed\")\n",
    "#try executed without any error\n",
    "finally:\n",
    "    print(\"it is always executed wether a program is runned or not\")\n",
    "#i am entering 2 digit name here so the error i am getting"
   ]
  },
  {
   "cell_type": "code",
   "execution_count": null,
   "metadata": {},
   "outputs": [],
   "source": []
  }
 ],
 "metadata": {
  "kernelspec": {
   "display_name": "Python 3",
   "language": "python",
   "name": "python3"
  },
  "language_info": {
   "codemirror_mode": {
    "name": "ipython",
    "version": 3
   },
   "file_extension": ".py",
   "mimetype": "text/x-python",
   "name": "python",
   "nbconvert_exporter": "python",
   "pygments_lexer": "ipython3",
   "version": "3.8.2"
  }
 },
 "nbformat": 4,
 "nbformat_minor": 4
}
