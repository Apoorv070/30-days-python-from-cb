{
 "cells": [
  {
   "cell_type": "markdown",
   "metadata": {},
   "source": [
    "# Data Struchtures in python"
   ]
  },
  {
   "cell_type": "markdown",
   "metadata": {},
   "source": [
    "## Builtin datatypes\n",
    "- strings\n",
    "- lists\n",
    "- tuples \n",
    "- dictionaries\n",
    "- sets"
   ]
  },
  {
   "cell_type": "markdown",
   "metadata": {},
   "source": [
    "## Lists"
   ]
  },
  {
   "cell_type": "code",
   "execution_count": 1,
   "metadata": {},
   "outputs": [
    {
     "name": "stdout",
     "output_type": "stream",
     "text": [
      "[1, 2, 3.5, 'hello']\n",
      "<class 'list'>\n"
     ]
    }
   ],
   "source": [
    "#list is like a array it can also have the hetrogeneous elements in it menas it can also have diffrent types of element inisde\n",
    "#it \n",
    "mylist = [1,2,3.5,\"hello\"]\n",
    "print(mylist)\n",
    "print(type(mylist))"
   ]
  },
  {
   "cell_type": "code",
   "execution_count": 4,
   "metadata": {},
   "outputs": [
    {
     "name": "stdout",
     "output_type": "stream",
     "text": [
      "[]\n",
      "<class 'list'>\n"
     ]
    }
   ],
   "source": [
    "#one more way of creating a list is \n",
    "l2 = list()\n",
    "print(l2)\n",
    "print(type(l2))"
   ]
  },
  {
   "cell_type": "code",
   "execution_count": 5,
   "metadata": {},
   "outputs": [
    {
     "name": "stdout",
     "output_type": "stream",
     "text": [
      "[1, 2, 3]\n",
      "<class 'list'>\n"
     ]
    }
   ],
   "source": [
    "l2 = list([1,2,3])\n",
    "print(l2)\n",
    "print(type(l2))"
   ]
  },
  {
   "cell_type": "code",
   "execution_count": 6,
   "metadata": {},
   "outputs": [
    {
     "name": "stdout",
     "output_type": "stream",
     "text": [
      "[1, 2, 3]\n",
      "['hey', 5]\n",
      "['hey', 5, 1, 2, 3]\n",
      "['hey', 5, 1, 2, 3]\n"
     ]
    }
   ],
   "source": [
    "l3 = list(l2)\n",
    "print(l3)\n",
    "l4 = list([\"hey\",5])\n",
    "print(l4)\n",
    "##adding a list\n",
    "l3 = l4 + l2\n",
    "print(l3)\n",
    "l4 = l3 ##making the l4 as l3 we need not need to create this bcoz we have already created this in line 3 but l3 was\n",
    "#######not created hence while copying l2 in l3 we also made a lsit at that line\n",
    "print(l4)"
   ]
  },
  {
   "cell_type": "code",
   "execution_count": 11,
   "metadata": {},
   "outputs": [
    {
     "name": "stdout",
     "output_type": "stream",
     "text": [
      "[1, 2, 3]\n",
      "extended by 1 by l5 so whatever the parametere is given in the extend function call\n",
      "[1, 2, 3, 1, 2, 3]\n",
      "[23, 45, 'hrt', 4.5]\n",
      "extended by l5\n",
      "[23, 45, 'hrt', 4.5, 1, 2, 3, 1, 2, 3]\n"
     ]
    }
   ],
   "source": [
    "l5 = list([1,2,3])\n",
    "print(l5)\n",
    "print(\"extended by 1 by l5 so whatever the parametere is given in the extend function call\")\n",
    "l5.extend(l5)\n",
    "print(l5)\n",
    "l6 = list([23,45,\"hrt\",4.5])\n",
    "print(l6)\n",
    "print(\"extended by l5\")\n",
    "l6.extend(l5)\n",
    "print(l6)"
   ]
  },
  {
   "cell_type": "code",
   "execution_count": 13,
   "metadata": {},
   "outputs": [
    {
     "name": "stdout",
     "output_type": "stream",
     "text": [
      "[1, 4, 9, 16, 25]\n"
     ]
    }
   ],
   "source": [
    "#we can also create a lsit using the for loop\n",
    "#suppose i want to make a lsit of a square of a no form 1 to 5 \n",
    "l7 = [int(i*i) for i in range(1,6)]\n",
    "print(l7)"
   ]
  },
  {
   "cell_type": "code",
   "execution_count": 16,
   "metadata": {},
   "outputs": [
    {
     "name": "stdout",
     "output_type": "stream",
     "text": [
      "[4, 9]\n",
      "[9, 16, 25]\n"
     ]
    }
   ],
   "source": [
    "##LIST SLICING\n",
    "## so the slicing is similar to that of the strings \n",
    "#where 1 is the staritng index and 3 is the endingindex+1\n",
    "#similarly u can also use negative index from -1 starting form the last\n",
    "print(l7[1:3])\n",
    "print(l7[-3:])"
   ]
  },
  {
   "cell_type": "code",
   "execution_count": 29,
   "metadata": {},
   "outputs": [
    {
     "name": "stdout",
     "output_type": "stream",
     "text": [
      "[1, 2, 3, 4, 5]\n",
      "[1, 2, 3, 4, 5, 6]\n",
      "[1, 2, 3, 4, 5, 6, [2, 3, 4, 5]]\n",
      "[2, 3, 4, 5]\n",
      "4\n",
      "[2, 3, 4, 5, 6, [2, 3, 4, 5]]\n",
      "[2, 4, 5, 6, [2, 3, 4, 5]]\n",
      "[2, 3, 4, 5]\n"
     ]
    }
   ],
   "source": [
    "#insertion and deletio in the list\n",
    "#insertion\n",
    "l8 = [1,2,3,4,5]\n",
    "print(l8)\n",
    "l8.append(6)\n",
    "print(l8)\n",
    "#so in this way u can make a list of list or a 2d array\n",
    "#remember if u do\n",
    "#l8+ [2,3,4,5]\n",
    "#this will not do the additon instead it will just fo the extension\n",
    "l8.append([2,3,4,5])\n",
    "print(l8)\n",
    "print(l8[6])\n",
    "print(l8[6][2])\n",
    "##if u wnat to insert at a particular position\n",
    "\n",
    "##deletion\n",
    "l8.remove(1)##in this remove u have to wriight the no which u want to delete\n",
    "print(l8)\n",
    "#once the element is removed u can remove it again otherwise it will give the error\n",
    "##we can also do the index wiwse deletion\n",
    "del l8[1] #here u have to write the index\n",
    "print(l8)\n",
    "#u can also delete the last element of the list using the pop funciton also known as poping\n",
    "print(l8.pop())"
   ]
  },
  {
   "cell_type": "code",
   "execution_count": 24,
   "metadata": {},
   "outputs": [
    {
     "name": "stdout",
     "output_type": "stream",
     "text": [
      "[1, 2, 3, 4, 1, 2, 3, 4, 1, 2, 3, 4, 1, 2, 3, 4]\n"
     ]
    }
   ],
   "source": [
    "l9 = [1,2,3,4]\n",
    "l9 = l9*4\n",
    "print(l9)"
   ]
  },
  {
   "cell_type": "code",
   "execution_count": 25,
   "metadata": {},
   "outputs": [
    {
     "data": {
      "text/plain": [
       "True"
      ]
     },
     "execution_count": 25,
     "metadata": {},
     "output_type": "execute_result"
    }
   ],
   "source": [
    "l = [\"apple\",\"mango\",80]\n",
    "##membership function\n",
    "80 in l"
   ]
  },
  {
   "cell_type": "code",
   "execution_count": 26,
   "metadata": {},
   "outputs": [
    {
     "name": "stdout",
     "output_type": "stream",
     "text": [
      "apple\n",
      "mango\n",
      "80\n"
     ]
    }
   ],
   "source": [
    "for i in range(len(l)):\n",
    "    print(l[i])"
   ]
  },
  {
   "cell_type": "code",
   "execution_count": 27,
   "metadata": {},
   "outputs": [
    {
     "name": "stdout",
     "output_type": "stream",
     "text": [
      "apple\n",
      "mango\n",
      "80\n"
     ]
    }
   ],
   "source": [
    "for x in l:\n",
    "    print(x)"
   ]
  },
  {
   "cell_type": "code",
   "execution_count": 14,
   "metadata": {},
   "outputs": [
    {
     "name": "stdout",
     "output_type": "stream",
     "text": [
      "-1\n",
      "56\n",
      "3\n"
     ]
    }
   ],
   "source": [
    "l10 = [1,2,5,4,7,56,7,8,-1]\n",
    "print(min(l10))\n",
    "print(max(l10))\n",
    "#linera search\n",
    "print(l10.index(4))"
   ]
  },
  {
   "cell_type": "code",
   "execution_count": 16,
   "metadata": {},
   "outputs": [
    {
     "name": "stdout",
     "output_type": "stream",
     "text": [
      "[-1, 1, 2, 4, 5, 7, 7, 8, 56]\n",
      "[1, 2, 5, 4, 7, 56, 7, 8, -1]\n",
      "[-1, 1, 2, 4, 5, 7, 7, 8, 56]\n"
     ]
    }
   ],
   "source": [
    "#sorting\n",
    "print(sorted(l10))\n",
    "print(l10)##means the string in not sorted actually\n",
    "#inorder to sort the string\n",
    "l10 = sorted(l10)\n",
    "print(l10)#now it is sorted permmently"
   ]
  },
  {
   "cell_type": "code",
   "execution_count": 17,
   "metadata": {},
   "outputs": [
    {
     "name": "stdout",
     "output_type": "stream",
     "text": [
      "[0, 2, 3, 6, 9]\n"
     ]
    }
   ],
   "source": [
    "#one more way for the sorting is \n",
    "l11 = [2,6,3,9,0]\n",
    "l11.sort()\n",
    "print(l11)"
   ]
  },
  {
   "cell_type": "code",
   "execution_count": 20,
   "metadata": {},
   "outputs": [
    {
     "name": "stdout",
     "output_type": "stream",
     "text": [
      "[9, 6, 3, 2, 0]\n"
     ]
    }
   ],
   "source": [
    "#you can also pass a compare function which will sort in a diffrent order like this\n",
    "l11.sort(reverse = True)\n",
    "print(l11)"
   ]
  },
  {
   "cell_type": "code",
   "execution_count": 21,
   "metadata": {},
   "outputs": [
    {
     "name": "stdout",
     "output_type": "stream",
     "text": [
      "1 2 34 5 6 78\n",
      "[1, 2, 34, 5, 6, 78]\n"
     ]
    }
   ],
   "source": [
    "## Read alsit of no from user\n",
    "numbers = [int(x) for x in input().split()]\n",
    "print(numbers)"
   ]
  },
  {
   "cell_type": "markdown",
   "metadata": {},
   "source": [
    "## Dictionaries"
   ]
  },
  {
   "cell_type": "code",
   "execution_count": 22,
   "metadata": {},
   "outputs": [
    {
     "name": "stdout",
     "output_type": "stream",
     "text": [
      "<class 'dict'>\n"
     ]
    }
   ],
   "source": [
    "#it is like a hashmap which stores the key value pairs and in which key shoud be unique\n",
    "d = {\n",
    "    \n",
    "}\n",
    "print(type(d))"
   ]
  },
  {
   "cell_type": "code",
   "execution_count": 23,
   "metadata": {},
   "outputs": [
    {
     "name": "stdout",
     "output_type": "stream",
     "text": [
      "{'mango': 100, 'apple': 50}\n",
      "100\n"
     ]
    }
   ],
   "source": [
    "d = {\n",
    "    \"mango\":100,\n",
    "    \"apple\":50\n",
    "}\n",
    "print(d)\n",
    "print(d[\"mango\"])"
   ]
  },
  {
   "cell_type": "code",
   "execution_count": 28,
   "metadata": {},
   "outputs": [
    {
     "name": "stdout",
     "output_type": "stream",
     "text": [
      "{'mango': 100, 'apple': 50, 'guava': 60, 'grapes': [20, 30]}\n",
      "{'mango': 100, 'apple': 50, 'guava': 60, 'grapes': [20, 30]}\n",
      "50\n"
     ]
    }
   ],
   "source": [
    "d[\"guava\"] = 60\n",
    "print(d)\n",
    "d[\"grapes\"] = [20,30]# if there is 2 variety of grapes\n",
    "print(d)\n",
    "print(d[\"grapes\"][1]+d[\"grapes\"][0])##30+20 = 50"
   ]
  },
  {
   "cell_type": "code",
   "execution_count": 31,
   "metadata": {},
   "outputs": [
    {
     "name": "stdout",
     "output_type": "stream",
     "text": [
      "{'mango': 100, 'apple': 50, 'guava': 60, 'grapes': [20, 30], 'banana': {'small': 40, 'big': 50}}\n",
      "<class 'dict'>\n",
      "40\n",
      "<class 'int'>\n"
     ]
    }
   ],
   "source": [
    "d[\"banana\"]  = {\n",
    "    \"small\" : 40,\n",
    "    \"big\" : 50\n",
    "}\n",
    "print(d)\n",
    "print(type(d))\n",
    "print(d[\"banana\"][\"small\"])\n",
    "print(type(d[\"banana\"][\"small\"]))"
   ]
  },
  {
   "cell_type": "code",
   "execution_count": 32,
   "metadata": {},
   "outputs": [
    {
     "name": "stdout",
     "output_type": "stream",
     "text": [
      "dict_keys(['mango', 'apple', 'guava', 'grapes', 'banana'])\n"
     ]
    }
   ],
   "source": [
    "#to see all keys\n",
    "print(d.keys())"
   ]
  },
  {
   "cell_type": "code",
   "execution_count": 34,
   "metadata": {},
   "outputs": [
    {
     "name": "stdout",
     "output_type": "stream",
     "text": [
      "dict_values([100, 50, 60, [20, 30], {'small': 40, 'big': 50}])\n"
     ]
    }
   ],
   "source": [
    "#to see all the values corresponding to the keys\n",
    "print(d.values())"
   ]
  },
  {
   "cell_type": "code",
   "execution_count": 35,
   "metadata": {},
   "outputs": [],
   "source": [
    "##some dictionary operators and methods"
   ]
  },
  {
   "cell_type": "code",
   "execution_count": 40,
   "metadata": {},
   "outputs": [
    {
     "name": "stdout",
     "output_type": "stream",
     "text": [
      "100\n",
      "None\n",
      "<class 'NoneType'>\n",
      "price of mago is 100\n",
      "does not exist\n"
     ]
    }
   ],
   "source": [
    "#get()\n",
    "#it is used to get a value for a given key\n",
    "#we can use d[\"mangoes\"] if it does not exist it will give error\n",
    "#so we can this get\n",
    "print(d.get(\"mango\"))\n",
    "#but if key does not exist it will not give the error and it will print none\n",
    "print(d.get(\"mangoes\"))\n",
    "print(type(d.get(\"mangoes\")))\n",
    "## here we can also use the if else statement to check wether the nangoes exist or not\n",
    "if \"mango\" in d:\n",
    "    print(\"price of mago is %d\"%(d[\"mango\"]))\n",
    "else:\n",
    "    print(\"does not exist\")\n",
    "if \"mango\" not in d:\n",
    "    print(\"price of mago is %d\"%(d[\"mango\"]))\n",
    "else:\n",
    "    print(\"does not exist\")"
   ]
  },
  {
   "cell_type": "code",
   "execution_count": 43,
   "metadata": {},
   "outputs": [
    {
     "name": "stdout",
     "output_type": "stream",
     "text": [
      "[('mango', 100), ('apple', 50), ('guava', 60), ('grapes', [20, 30]), ('banana', {'small': 40, 'big': 50})]\n"
     ]
    }
   ],
   "source": [
    "#items()\n",
    "#return list of tuples\n",
    "l = list(d.items())\n",
    "print(l)"
   ]
  },
  {
   "cell_type": "code",
   "execution_count": 44,
   "metadata": {},
   "outputs": [
    {
     "name": "stdout",
     "output_type": "stream",
     "text": [
      "dict_items([('mango', 100), ('apple', 50), ('guava', 60), ('grapes', [20, 30]), ('banana', {'small': 40, 'big': 50})])\n"
     ]
    }
   ],
   "source": [
    "print(d.items())"
   ]
  },
  {
   "cell_type": "code",
   "execution_count": 46,
   "metadata": {},
   "outputs": [
    {
     "name": "stdout",
     "output_type": "stream",
     "text": [
      "{'mango': 100, 'apple': 50, 'guava': 60, 'grapes': [20, 30], 'banana': {'small': 40, 'big': 50}, 'straberry': 95}\n"
     ]
    }
   ],
   "source": [
    "#update can be used in merging of 2 dictionaries\n",
    "d2 = {\n",
    "    \"straberry\":95\n",
    "}\n",
    "d.update(d2)\n",
    "print(d)\n",
    "#d and d2 dic are merged now"
   ]
  },
  {
   "cell_type": "code",
   "execution_count": 47,
   "metadata": {},
   "outputs": [
    {
     "name": "stdout",
     "output_type": "stream",
     "text": [
      "6\n"
     ]
    }
   ],
   "source": [
    "print(len(d))\n",
    "#how many key value pair are there"
   ]
  },
  {
   "cell_type": "code",
   "execution_count": 48,
   "metadata": {},
   "outputs": [
    {
     "name": "stdout",
     "output_type": "stream",
     "text": [
      "{}\n"
     ]
    }
   ],
   "source": [
    "d.clear()\n",
    "#used to clear the dictionary \n",
    "print(d)"
   ]
  },
  {
   "cell_type": "code",
   "execution_count": 49,
   "metadata": {},
   "outputs": [
    {
     "name": "stdout",
     "output_type": "stream",
     "text": [
      "<zip object at 0x014EA428>\n"
     ]
    }
   ],
   "source": [
    "#converting dic into lsit and list to dic\n",
    "#dic using 2 list\n",
    "l1 = [\"apple\",\"papaya\",\"banana\"]\n",
    "l2 = [100,120,30]\n",
    "p = zip(l1,l2)\n",
    "print(p)"
   ]
  },
  {
   "cell_type": "code",
   "execution_count": 52,
   "metadata": {},
   "outputs": [
    {
     "name": "stdout",
     "output_type": "stream",
     "text": [
      "{'apple': 100, 'papaya': 120, 'banana': 30}\n",
      "<class 'dict'>\n"
     ]
    }
   ],
   "source": [
    "l1 = [\"apple\",\"papaya\",\"banana\"]\n",
    "l2 = [100,120,30]\n",
    "p = dict(zip(l1,l2))\n",
    "print(p)\n",
    "print(type(p))"
   ]
  },
  {
   "cell_type": "code",
   "execution_count": 53,
   "metadata": {},
   "outputs": [
    {
     "name": "stdout",
     "output_type": "stream",
     "text": [
      "100\n",
      "120\n",
      "30\n"
     ]
    }
   ],
   "source": [
    "#we can iterate over the keys \n",
    "for k in p.values():\n",
    "    print(k)"
   ]
  },
  {
   "cell_type": "code",
   "execution_count": 54,
   "metadata": {},
   "outputs": [
    {
     "name": "stdout",
     "output_type": "stream",
     "text": [
      "apple\n",
      "papaya\n",
      "banana\n"
     ]
    }
   ],
   "source": [
    "for k in p.keys():\n",
    "    print(k)"
   ]
  },
  {
   "cell_type": "markdown",
   "metadata": {},
   "source": [
    "## Tuples"
   ]
  },
  {
   "cell_type": "code",
   "execution_count": 55,
   "metadata": {},
   "outputs": [
    {
     "name": "stdout",
     "output_type": "stream",
     "text": [
      "(1, 2, 3, 'hell')\n",
      "1\n"
     ]
    }
   ],
   "source": [
    "#hold together multiple objects\n",
    "#immutable (we can not update a particular member)\n",
    "#comma separated entries\n",
    "#tuples are faster than lists\n",
    "#safe\n",
    "#return multiple values from functions\n",
    "#asserts data is constant\n",
    "#it can store hetrogeneous value\n",
    "t = (1,2,3,\"hell\")\n",
    "print(t)\n",
    "#t[0]=4 this will also throw an error\n",
    "print(t[0])"
   ]
  },
  {
   "cell_type": "code",
   "execution_count": 56,
   "metadata": {},
   "outputs": [
    {
     "name": "stdout",
     "output_type": "stream",
     "text": [
      "[1, 2, 3, 'hell']\n",
      "[5, 2, 3, 'hell']\n"
     ]
    }
   ],
   "source": [
    "#convert a tuple into a list\n",
    "l = list(t)\n",
    "print(l)\n",
    "l[0] = 5 #now u can update\n",
    "print(l)"
   ]
  },
  {
   "cell_type": "code",
   "execution_count": 58,
   "metadata": {},
   "outputs": [
    {
     "name": "stdout",
     "output_type": "stream",
     "text": [
      "[5, 2, 3, 'hell']\n"
     ]
    }
   ],
   "source": [
    "t2 = tuple(l)\n",
    "print(l)"
   ]
  },
  {
   "cell_type": "code",
   "execution_count": 59,
   "metadata": {},
   "outputs": [
    {
     "name": "stdout",
     "output_type": "stream",
     "text": [
      "(5, 2, 3, 'hell', 1, 2, 3, 'hell')\n",
      "(5, 2, 3, 'hell', 5, 2, 3, 'hell', 5, 2, 3, 'hell')\n"
     ]
    }
   ],
   "source": [
    "#concatenation\n",
    "print(t2+t)\n",
    "#repetiton\n",
    "t2 = t2*3\n",
    "print(t2)"
   ]
  },
  {
   "cell_type": "code",
   "execution_count": 60,
   "metadata": {},
   "outputs": [
    {
     "name": "stdout",
     "output_type": "stream",
     "text": [
      "12\n"
     ]
    }
   ],
   "source": [
    "print(len(t2))"
   ]
  },
  {
   "cell_type": "code",
   "execution_count": 61,
   "metadata": {},
   "outputs": [
    {
     "ename": "TypeError",
     "evalue": "'>' not supported between instances of 'str' and 'int'",
     "output_type": "error",
     "traceback": [
      "\u001b[1;31m---------------------------------------------------------------------------\u001b[0m",
      "\u001b[1;31mTypeError\u001b[0m                                 Traceback (most recent call last)",
      "\u001b[1;32m<ipython-input-61-26137f37a7ce>\u001b[0m in \u001b[0;36m<module>\u001b[1;34m\u001b[0m\n\u001b[1;32m----> 1\u001b[1;33m \u001b[0mprint\u001b[0m\u001b[1;33m(\u001b[0m\u001b[0mmax\u001b[0m\u001b[1;33m(\u001b[0m\u001b[0mt2\u001b[0m\u001b[1;33m)\u001b[0m\u001b[1;33m)\u001b[0m\u001b[1;33m\u001b[0m\u001b[1;33m\u001b[0m\u001b[0m\n\u001b[0m",
      "\u001b[1;31mTypeError\u001b[0m: '>' not supported between instances of 'str' and 'int'"
     ]
    }
   ],
   "source": [
    "print(max(t2))#this gives error bcoz there are of 2 diffrent datatype"
   ]
  },
  {
   "cell_type": "code",
   "execution_count": 62,
   "metadata": {},
   "outputs": [
    {
     "name": "stdout",
     "output_type": "stream",
     "text": [
      "6\n"
     ]
    }
   ],
   "source": [
    "t1 = (2,3,4,5,6)\n",
    "print(max(t1))"
   ]
  },
  {
   "cell_type": "code",
   "execution_count": 63,
   "metadata": {},
   "outputs": [],
   "source": [
    "del t1\n",
    "# can be used to delte a tuple"
   ]
  },
  {
   "cell_type": "markdown",
   "metadata": {},
   "source": [
    "## Set"
   ]
  },
  {
   "cell_type": "code",
   "execution_count": 64,
   "metadata": {},
   "outputs": [
    {
     "name": "stdout",
     "output_type": "stream",
     "text": [
      "{1, 2, 3, 4, 5, 6, 9, 78}\n"
     ]
    }
   ],
   "source": [
    "#it stores unique element and the order is random here in which elements are stored\n",
    "s = set([1,2,3,4,5,6,78,9])\n",
    "print(s)"
   ]
  },
  {
   "cell_type": "code",
   "execution_count": 65,
   "metadata": {},
   "outputs": [
    {
     "name": "stdout",
     "output_type": "stream",
     "text": [
      "{1, 2, 3, 4, 5, 6, 9, 78}\n"
     ]
    }
   ],
   "source": [
    "s = set([1,1,1,1,2,3,4,5,6,78,9])\n",
    "print(s)#here i have repeated one but set will store only once"
   ]
  },
  {
   "cell_type": "code",
   "execution_count": 66,
   "metadata": {},
   "outputs": [
    {
     "name": "stdout",
     "output_type": "stream",
     "text": [
      "{1, 11, 5, 6}\n"
     ]
    }
   ],
   "source": [
    "s2 = {5,6,11,1,1,1,1}\n",
    "print(s2)#stores in a random order as u can see sorting depemds on some what \n",
    "#internal implementation like hashmaps order is efficient in the internal implementation"
   ]
  },
  {
   "cell_type": "code",
   "execution_count": 69,
   "metadata": {},
   "outputs": [
    {
     "name": "stdout",
     "output_type": "stream",
     "text": [
      "{1, 5, 6, 11, 50}\n"
     ]
    },
    {
     "ename": "NameError",
     "evalue": "name 'primt' is not defined",
     "output_type": "error",
     "traceback": [
      "\u001b[1;31m---------------------------------------------------------------------------\u001b[0m",
      "\u001b[1;31mNameError\u001b[0m                                 Traceback (most recent call last)",
      "\u001b[1;32m<ipython-input-69-ccb00115ef79>\u001b[0m in \u001b[0;36m<module>\u001b[1;34m\u001b[0m\n\u001b[0;32m      2\u001b[0m \u001b[0ms2\u001b[0m\u001b[1;33m.\u001b[0m\u001b[0madd\u001b[0m\u001b[1;33m(\u001b[0m\u001b[1;36m50\u001b[0m\u001b[1;33m)\u001b[0m\u001b[1;33m\u001b[0m\u001b[1;33m\u001b[0m\u001b[0m\n\u001b[0;32m      3\u001b[0m \u001b[0mprint\u001b[0m\u001b[1;33m(\u001b[0m\u001b[0ms2\u001b[0m\u001b[1;33m)\u001b[0m\u001b[1;33m\u001b[0m\u001b[1;33m\u001b[0m\u001b[0m\n\u001b[1;32m----> 4\u001b[1;33m \u001b[0mprimt\u001b[0m\u001b[1;33m(\u001b[0m\u001b[0ms\u001b[0m\u001b[1;33m.\u001b[0m\u001b[0munion\u001b[0m\u001b[1;33m(\u001b[0m\u001b[0ms2\u001b[0m\u001b[1;33m)\u001b[0m\u001b[1;33m)\u001b[0m\u001b[1;33m\u001b[0m\u001b[1;33m\u001b[0m\u001b[0m\n\u001b[0m\u001b[0;32m      5\u001b[0m \u001b[0mprint\u001b[0m\u001b[1;33m(\u001b[0m\u001b[0ms\u001b[0m\u001b[1;33m)\u001b[0m\u001b[1;33m\u001b[0m\u001b[1;33m\u001b[0m\u001b[0m\n",
      "\u001b[1;31mNameError\u001b[0m: name 'primt' is not defined"
     ]
    }
   ],
   "source": [
    "##add element\n",
    "s2.add(50)\n",
    "print(s2)\n",
    "primt(s.union(s2))#error in this line"
   ]
  },
  {
   "cell_type": "code",
   "execution_count": 70,
   "metadata": {},
   "outputs": [
    {
     "name": "stdout",
     "output_type": "stream",
     "text": [
      "{1, 5, 6, 11, 50}\n"
     ]
    },
    {
     "data": {
      "text/plain": [
       "{1, 2, 3, 4, 5, 6, 9, 11, 50, 78}"
      ]
     },
     "execution_count": 70,
     "metadata": {},
     "output_type": "execute_result"
    }
   ],
   "source": [
    "s2.add(50)\n",
    "print(s2)\n",
    "s.union(s2)"
   ]
  },
  {
   "cell_type": "code",
   "execution_count": 73,
   "metadata": {},
   "outputs": [
    {
     "name": "stdout",
     "output_type": "stream",
     "text": [
      "{1, 2, 3, 4, 5, 6, 9, 78}\n",
      "{1, 5, 6, 11, 50}\n"
     ]
    }
   ],
   "source": [
    "print(s)\n",
    "print(s2)#union has no effect in s and s2"
   ]
  },
  {
   "cell_type": "code",
   "execution_count": 74,
   "metadata": {},
   "outputs": [
    {
     "data": {
      "text/plain": [
       "{1, 2, 3, 4, 5, 6, 9, 11, 50, 78}"
      ]
     },
     "execution_count": 74,
     "metadata": {},
     "output_type": "execute_result"
    }
   ],
   "source": [
    "s | s2 #all elements"
   ]
  },
  {
   "cell_type": "code",
   "execution_count": 75,
   "metadata": {},
   "outputs": [
    {
     "data": {
      "text/plain": [
       "{1, 5, 6}"
      ]
     },
     "execution_count": 75,
     "metadata": {},
     "output_type": "execute_result"
    }
   ],
   "source": [
    "s & s2 #common elements"
   ]
  },
  {
   "cell_type": "code",
   "execution_count": 76,
   "metadata": {},
   "outputs": [
    {
     "data": {
      "text/plain": [
       "{1, 5, 6}"
      ]
     },
     "execution_count": 76,
     "metadata": {},
     "output_type": "execute_result"
    }
   ],
   "source": [
    "s.intersection(s2)"
   ]
  },
  {
   "cell_type": "code",
   "execution_count": 77,
   "metadata": {},
   "outputs": [
    {
     "data": {
      "text/plain": [
       "{2, 3, 4, 9, 78}"
      ]
     },
     "execution_count": 77,
     "metadata": {},
     "output_type": "execute_result"
    }
   ],
   "source": [
    "s- s2 #it will remove the elements of s2 from s"
   ]
  },
  {
   "cell_type": "code",
   "execution_count": 79,
   "metadata": {},
   "outputs": [
    {
     "data": {
      "text/plain": [
       "{2, 3, 4, 9, 78}"
      ]
     },
     "execution_count": 79,
     "metadata": {},
     "output_type": "execute_result"
    }
   ],
   "source": [
    "s.difference(s2) #same as s-s2"
   ]
  },
  {
   "cell_type": "code",
   "execution_count": 80,
   "metadata": {},
   "outputs": [
    {
     "name": "stdout",
     "output_type": "stream",
     "text": [
      "set()\n"
     ]
    }
   ],
   "source": [
    "s.clear()\n",
    "print(s)"
   ]
  },
  {
   "cell_type": "code",
   "execution_count": 85,
   "metadata": {},
   "outputs": [
    {
     "name": "stdout",
     "output_type": "stream",
     "text": [
      "yes\n"
     ]
    },
    {
     "data": {
      "text/plain": [
       "True"
      ]
     },
     "execution_count": 85,
     "metadata": {},
     "output_type": "execute_result"
    }
   ],
   "source": [
    "#membership\n",
    "if 5 in s2:\n",
    "    print(\"yes\")\n",
    "5 in s2"
   ]
  },
  {
   "cell_type": "code",
   "execution_count": 86,
   "metadata": {},
   "outputs": [
    {
     "data": {
      "text/plain": [
       "{1, 5, 6, 11, 50}"
      ]
     },
     "execution_count": 86,
     "metadata": {},
     "output_type": "execute_result"
    }
   ],
   "source": [
    "s^s2"
   ]
  },
  {
   "cell_type": "code",
   "execution_count": 87,
   "metadata": {},
   "outputs": [
    {
     "name": "stdout",
     "output_type": "stream",
     "text": [
      "{1, 5, 6}\n"
     ]
    }
   ],
   "source": [
    "a1 = {1,2,3,4}\n",
    "a2 = {2,3,4,5,6}\n",
    "#those element which are only in one of the sets\n",
    "print(a1^a2)"
   ]
  }
 ],
 "metadata": {
  "kernelspec": {
   "display_name": "Python 3",
   "language": "python",
   "name": "python3"
  },
  "language_info": {
   "codemirror_mode": {
    "name": "ipython",
    "version": 3
   },
   "file_extension": ".py",
   "mimetype": "text/x-python",
   "name": "python",
   "nbconvert_exporter": "python",
   "pygments_lexer": "ipython3",
   "version": "3.8.2"
  }
 },
 "nbformat": 4,
 "nbformat_minor": 4
}
